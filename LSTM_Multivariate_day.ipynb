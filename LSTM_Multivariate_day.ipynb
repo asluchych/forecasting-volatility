{
 "cells": [
  {
   "cell_type": "code",
   "execution_count": 70,
   "id": "08c5d8a5",
   "metadata": {},
   "outputs": [],
   "source": [
    "import numpy as np\n",
    "import pandas as pd\n",
    "\n",
    "import tensorflow as tf"
   ]
  },
  {
   "cell_type": "code",
   "execution_count": 71,
   "id": "8dd2b05d",
   "metadata": {},
   "outputs": [],
   "source": [
    "data = pd.read_csv('daily_rv_daily_data2.csv')"
   ]
  },
  {
   "cell_type": "code",
   "execution_count": 72,
   "id": "ae1c48fe",
   "metadata": {},
   "outputs": [
    {
     "data": {
      "text/html": [
       "<div>\n",
       "<style scoped>\n",
       "    .dataframe tbody tr th:only-of-type {\n",
       "        vertical-align: middle;\n",
       "    }\n",
       "\n",
       "    .dataframe tbody tr th {\n",
       "        vertical-align: top;\n",
       "    }\n",
       "\n",
       "    .dataframe thead th {\n",
       "        text-align: right;\n",
       "    }\n",
       "</style>\n",
       "<table border=\"1\" class=\"dataframe\">\n",
       "  <thead>\n",
       "    <tr style=\"text-align: right;\">\n",
       "      <th></th>\n",
       "      <th>Date</th>\n",
       "      <th>AAPL.O</th>\n",
       "      <th>MSFT.O</th>\n",
       "      <th>GOOGL.O</th>\n",
       "      <th>AMZN.O</th>\n",
       "      <th>NVDA.O</th>\n",
       "      <th>META.O</th>\n",
       "      <th>BRKb</th>\n",
       "      <th>TSLA.O</th>\n",
       "      <th>LLY</th>\n",
       "      <th>...</th>\n",
       "      <th>MDLZ.O</th>\n",
       "      <th>LRCX.O</th>\n",
       "      <th>REGN.O</th>\n",
       "      <th>AMT</th>\n",
       "      <th>PGR</th>\n",
       "      <th>ADP.O</th>\n",
       "      <th>ETN</th>\n",
       "      <th>MMC</th>\n",
       "      <th>ADI.O</th>\n",
       "      <th>CB</th>\n",
       "    </tr>\n",
       "  </thead>\n",
       "  <tbody>\n",
       "    <tr>\n",
       "      <th>0</th>\n",
       "      <td>1/2/2013</td>\n",
       "      <td>0.394759</td>\n",
       "      <td>0.204164</td>\n",
       "      <td>0.160624</td>\n",
       "      <td>0.259588</td>\n",
       "      <td>0.255805</td>\n",
       "      <td>0.417448</td>\n",
       "      <td>0.175771</td>\n",
       "      <td>0.303948</td>\n",
       "      <td>0.195200</td>\n",
       "      <td>...</td>\n",
       "      <td>0.195187</td>\n",
       "      <td>0.293085</td>\n",
       "      <td>0.305850</td>\n",
       "      <td>0.137254</td>\n",
       "      <td>0.171489</td>\n",
       "      <td>0.145849</td>\n",
       "      <td>0.233725</td>\n",
       "      <td>0.148091</td>\n",
       "      <td>0.200371</td>\n",
       "      <td>0.170832</td>\n",
       "    </tr>\n",
       "    <tr>\n",
       "      <th>1</th>\n",
       "      <td>1/3/2013</td>\n",
       "      <td>0.395757</td>\n",
       "      <td>0.208856</td>\n",
       "      <td>0.159135</td>\n",
       "      <td>0.258251</td>\n",
       "      <td>0.243873</td>\n",
       "      <td>0.399197</td>\n",
       "      <td>0.174278</td>\n",
       "      <td>0.300405</td>\n",
       "      <td>0.195320</td>\n",
       "      <td>...</td>\n",
       "      <td>0.192092</td>\n",
       "      <td>0.302253</td>\n",
       "      <td>0.295365</td>\n",
       "      <td>0.166521</td>\n",
       "      <td>0.177504</td>\n",
       "      <td>0.143627</td>\n",
       "      <td>0.218913</td>\n",
       "      <td>0.147615</td>\n",
       "      <td>0.210676</td>\n",
       "      <td>0.171212</td>\n",
       "    </tr>\n",
       "    <tr>\n",
       "      <th>2</th>\n",
       "      <td>1/4/2013</td>\n",
       "      <td>0.402038</td>\n",
       "      <td>0.220225</td>\n",
       "      <td>0.167490</td>\n",
       "      <td>0.257017</td>\n",
       "      <td>0.248701</td>\n",
       "      <td>0.413483</td>\n",
       "      <td>0.171509</td>\n",
       "      <td>0.293261</td>\n",
       "      <td>0.230610</td>\n",
       "      <td>...</td>\n",
       "      <td>0.192161</td>\n",
       "      <td>0.297705</td>\n",
       "      <td>0.295445</td>\n",
       "      <td>0.166560</td>\n",
       "      <td>0.179663</td>\n",
       "      <td>0.145369</td>\n",
       "      <td>0.218888</td>\n",
       "      <td>0.146414</td>\n",
       "      <td>0.222877</td>\n",
       "      <td>0.171222</td>\n",
       "    </tr>\n",
       "    <tr>\n",
       "      <th>3</th>\n",
       "      <td>1/7/2013</td>\n",
       "      <td>0.332536</td>\n",
       "      <td>0.216903</td>\n",
       "      <td>0.167327</td>\n",
       "      <td>0.282636</td>\n",
       "      <td>0.269675</td>\n",
       "      <td>0.419015</td>\n",
       "      <td>0.173562</td>\n",
       "      <td>0.292516</td>\n",
       "      <td>0.230156</td>\n",
       "      <td>...</td>\n",
       "      <td>0.188114</td>\n",
       "      <td>0.301152</td>\n",
       "      <td>0.283465</td>\n",
       "      <td>0.166091</td>\n",
       "      <td>0.175517</td>\n",
       "      <td>0.143705</td>\n",
       "      <td>0.231562</td>\n",
       "      <td>0.144032</td>\n",
       "      <td>0.222388</td>\n",
       "      <td>0.173660</td>\n",
       "    </tr>\n",
       "    <tr>\n",
       "      <th>4</th>\n",
       "      <td>1/8/2013</td>\n",
       "      <td>0.327239</td>\n",
       "      <td>0.217523</td>\n",
       "      <td>0.168126</td>\n",
       "      <td>0.284468</td>\n",
       "      <td>0.283448</td>\n",
       "      <td>0.408740</td>\n",
       "      <td>0.172781</td>\n",
       "      <td>0.300155</td>\n",
       "      <td>0.230088</td>\n",
       "      <td>...</td>\n",
       "      <td>0.188147</td>\n",
       "      <td>0.307200</td>\n",
       "      <td>0.298759</td>\n",
       "      <td>0.165878</td>\n",
       "      <td>0.174623</td>\n",
       "      <td>0.143895</td>\n",
       "      <td>0.239140</td>\n",
       "      <td>0.150114</td>\n",
       "      <td>0.226609</td>\n",
       "      <td>0.183130</td>\n",
       "    </tr>\n",
       "    <tr>\n",
       "      <th>...</th>\n",
       "      <td>...</td>\n",
       "      <td>...</td>\n",
       "      <td>...</td>\n",
       "      <td>...</td>\n",
       "      <td>...</td>\n",
       "      <td>...</td>\n",
       "      <td>...</td>\n",
       "      <td>...</td>\n",
       "      <td>...</td>\n",
       "      <td>...</td>\n",
       "      <td>...</td>\n",
       "      <td>...</td>\n",
       "      <td>...</td>\n",
       "      <td>...</td>\n",
       "      <td>...</td>\n",
       "      <td>...</td>\n",
       "      <td>...</td>\n",
       "      <td>...</td>\n",
       "      <td>...</td>\n",
       "      <td>...</td>\n",
       "      <td>...</td>\n",
       "    </tr>\n",
       "    <tr>\n",
       "      <th>2763</th>\n",
       "      <td>12/22/2023</td>\n",
       "      <td>0.142644</td>\n",
       "      <td>0.152017</td>\n",
       "      <td>0.265722</td>\n",
       "      <td>0.183732</td>\n",
       "      <td>0.300429</td>\n",
       "      <td>0.251188</td>\n",
       "      <td>0.112377</td>\n",
       "      <td>0.328612</td>\n",
       "      <td>0.221377</td>\n",
       "      <td>...</td>\n",
       "      <td>0.191848</td>\n",
       "      <td>0.305120</td>\n",
       "      <td>0.174392</td>\n",
       "      <td>0.160872</td>\n",
       "      <td>0.229185</td>\n",
       "      <td>0.141688</td>\n",
       "      <td>0.156342</td>\n",
       "      <td>0.246544</td>\n",
       "      <td>0.243801</td>\n",
       "      <td>0.154808</td>\n",
       "    </tr>\n",
       "    <tr>\n",
       "      <th>2764</th>\n",
       "      <td>12/26/2023</td>\n",
       "      <td>0.140558</td>\n",
       "      <td>0.152010</td>\n",
       "      <td>0.260776</td>\n",
       "      <td>0.183770</td>\n",
       "      <td>0.293185</td>\n",
       "      <td>0.247934</td>\n",
       "      <td>0.111985</td>\n",
       "      <td>0.331389</td>\n",
       "      <td>0.217250</td>\n",
       "      <td>...</td>\n",
       "      <td>0.193363</td>\n",
       "      <td>0.309648</td>\n",
       "      <td>0.173624</td>\n",
       "      <td>0.160862</td>\n",
       "      <td>0.227223</td>\n",
       "      <td>0.143380</td>\n",
       "      <td>0.156762</td>\n",
       "      <td>0.245336</td>\n",
       "      <td>0.244412</td>\n",
       "      <td>0.156492</td>\n",
       "    </tr>\n",
       "    <tr>\n",
       "      <th>2765</th>\n",
       "      <td>12/27/2023</td>\n",
       "      <td>0.140424</td>\n",
       "      <td>0.151528</td>\n",
       "      <td>0.262720</td>\n",
       "      <td>0.183184</td>\n",
       "      <td>0.291714</td>\n",
       "      <td>0.244286</td>\n",
       "      <td>0.111528</td>\n",
       "      <td>0.335122</td>\n",
       "      <td>0.223289</td>\n",
       "      <td>...</td>\n",
       "      <td>0.194650</td>\n",
       "      <td>0.310221</td>\n",
       "      <td>0.194757</td>\n",
       "      <td>0.159658</td>\n",
       "      <td>0.226558</td>\n",
       "      <td>0.142111</td>\n",
       "      <td>0.156581</td>\n",
       "      <td>0.247162</td>\n",
       "      <td>0.244470</td>\n",
       "      <td>0.155199</td>\n",
       "    </tr>\n",
       "    <tr>\n",
       "      <th>2766</th>\n",
       "      <td>12/28/2023</td>\n",
       "      <td>0.140256</td>\n",
       "      <td>0.146611</td>\n",
       "      <td>0.262335</td>\n",
       "      <td>0.181752</td>\n",
       "      <td>0.289482</td>\n",
       "      <td>0.241846</td>\n",
       "      <td>0.111248</td>\n",
       "      <td>0.326578</td>\n",
       "      <td>0.223265</td>\n",
       "      <td>...</td>\n",
       "      <td>0.194603</td>\n",
       "      <td>0.303298</td>\n",
       "      <td>0.195234</td>\n",
       "      <td>0.158004</td>\n",
       "      <td>0.226790</td>\n",
       "      <td>0.142477</td>\n",
       "      <td>0.137460</td>\n",
       "      <td>0.243547</td>\n",
       "      <td>0.243149</td>\n",
       "      <td>0.149851</td>\n",
       "    </tr>\n",
       "    <tr>\n",
       "      <th>2767</th>\n",
       "      <td>12/29/2023</td>\n",
       "      <td>0.140264</td>\n",
       "      <td>0.143021</td>\n",
       "      <td>0.255476</td>\n",
       "      <td>0.184608</td>\n",
       "      <td>0.288956</td>\n",
       "      <td>0.233772</td>\n",
       "      <td>0.110846</td>\n",
       "      <td>0.331511</td>\n",
       "      <td>0.223757</td>\n",
       "      <td>...</td>\n",
       "      <td>0.187350</td>\n",
       "      <td>0.306719</td>\n",
       "      <td>0.196551</td>\n",
       "      <td>0.155382</td>\n",
       "      <td>0.228222</td>\n",
       "      <td>0.142553</td>\n",
       "      <td>0.137626</td>\n",
       "      <td>0.244117</td>\n",
       "      <td>0.246006</td>\n",
       "      <td>0.151854</td>\n",
       "    </tr>\n",
       "  </tbody>\n",
       "</table>\n",
       "<p>2768 rows × 98 columns</p>\n",
       "</div>"
      ],
      "text/plain": [
       "            Date    AAPL.O    MSFT.O   GOOGL.O    AMZN.O    NVDA.O    META.O  \\\n",
       "0       1/2/2013  0.394759  0.204164  0.160624  0.259588  0.255805  0.417448   \n",
       "1       1/3/2013  0.395757  0.208856  0.159135  0.258251  0.243873  0.399197   \n",
       "2       1/4/2013  0.402038  0.220225  0.167490  0.257017  0.248701  0.413483   \n",
       "3       1/7/2013  0.332536  0.216903  0.167327  0.282636  0.269675  0.419015   \n",
       "4       1/8/2013  0.327239  0.217523  0.168126  0.284468  0.283448  0.408740   \n",
       "...          ...       ...       ...       ...       ...       ...       ...   \n",
       "2763  12/22/2023  0.142644  0.152017  0.265722  0.183732  0.300429  0.251188   \n",
       "2764  12/26/2023  0.140558  0.152010  0.260776  0.183770  0.293185  0.247934   \n",
       "2765  12/27/2023  0.140424  0.151528  0.262720  0.183184  0.291714  0.244286   \n",
       "2766  12/28/2023  0.140256  0.146611  0.262335  0.181752  0.289482  0.241846   \n",
       "2767  12/29/2023  0.140264  0.143021  0.255476  0.184608  0.288956  0.233772   \n",
       "\n",
       "          BRKb    TSLA.O       LLY  ...    MDLZ.O    LRCX.O    REGN.O  \\\n",
       "0     0.175771  0.303948  0.195200  ...  0.195187  0.293085  0.305850   \n",
       "1     0.174278  0.300405  0.195320  ...  0.192092  0.302253  0.295365   \n",
       "2     0.171509  0.293261  0.230610  ...  0.192161  0.297705  0.295445   \n",
       "3     0.173562  0.292516  0.230156  ...  0.188114  0.301152  0.283465   \n",
       "4     0.172781  0.300155  0.230088  ...  0.188147  0.307200  0.298759   \n",
       "...        ...       ...       ...  ...       ...       ...       ...   \n",
       "2763  0.112377  0.328612  0.221377  ...  0.191848  0.305120  0.174392   \n",
       "2764  0.111985  0.331389  0.217250  ...  0.193363  0.309648  0.173624   \n",
       "2765  0.111528  0.335122  0.223289  ...  0.194650  0.310221  0.194757   \n",
       "2766  0.111248  0.326578  0.223265  ...  0.194603  0.303298  0.195234   \n",
       "2767  0.110846  0.331511  0.223757  ...  0.187350  0.306719  0.196551   \n",
       "\n",
       "           AMT       PGR     ADP.O       ETN       MMC     ADI.O        CB  \n",
       "0     0.137254  0.171489  0.145849  0.233725  0.148091  0.200371  0.170832  \n",
       "1     0.166521  0.177504  0.143627  0.218913  0.147615  0.210676  0.171212  \n",
       "2     0.166560  0.179663  0.145369  0.218888  0.146414  0.222877  0.171222  \n",
       "3     0.166091  0.175517  0.143705  0.231562  0.144032  0.222388  0.173660  \n",
       "4     0.165878  0.174623  0.143895  0.239140  0.150114  0.226609  0.183130  \n",
       "...        ...       ...       ...       ...       ...       ...       ...  \n",
       "2763  0.160872  0.229185  0.141688  0.156342  0.246544  0.243801  0.154808  \n",
       "2764  0.160862  0.227223  0.143380  0.156762  0.245336  0.244412  0.156492  \n",
       "2765  0.159658  0.226558  0.142111  0.156581  0.247162  0.244470  0.155199  \n",
       "2766  0.158004  0.226790  0.142477  0.137460  0.243547  0.243149  0.149851  \n",
       "2767  0.155382  0.228222  0.142553  0.137626  0.244117  0.246006  0.151854  \n",
       "\n",
       "[2768 rows x 98 columns]"
      ]
     },
     "execution_count": 72,
     "metadata": {},
     "output_type": "execute_result"
    }
   ],
   "source": [
    "data"
   ]
  },
  {
   "cell_type": "code",
   "execution_count": 73,
   "id": "a89fb933",
   "metadata": {},
   "outputs": [],
   "source": [
    "data = data.rename(columns={\"Unnamed: 0\": \"Date\"})"
   ]
  },
  {
   "cell_type": "code",
   "execution_count": 74,
   "id": "5685200b",
   "metadata": {},
   "outputs": [
    {
     "data": {
      "text/plain": [
       "datetime.datetime(2024, 1, 10, 0, 0)"
      ]
     },
     "execution_count": 74,
     "metadata": {},
     "output_type": "execute_result"
    }
   ],
   "source": [
    "import datetime\n",
    "\n",
    "def str_to_datetime(s):\n",
    "  split = s.split('/')\n",
    "  month, day, year = int(split[0]), int(split[1]), int(split[2])\n",
    "  return datetime.datetime(year=year, month=month, day=day)\n",
    "\n",
    "datetime_object = str_to_datetime('1/10/2024')\n",
    "datetime_object"
   ]
  },
  {
   "cell_type": "code",
   "execution_count": 75,
   "id": "d42237f3",
   "metadata": {},
   "outputs": [
    {
     "data": {
      "text/plain": [
       "0      2013-01-02\n",
       "1      2013-01-03\n",
       "2      2013-01-04\n",
       "3      2013-01-07\n",
       "4      2013-01-08\n",
       "          ...    \n",
       "2763   2023-12-22\n",
       "2764   2023-12-26\n",
       "2765   2023-12-27\n",
       "2766   2023-12-28\n",
       "2767   2023-12-29\n",
       "Name: Date, Length: 2768, dtype: datetime64[ns]"
      ]
     },
     "execution_count": 75,
     "metadata": {},
     "output_type": "execute_result"
    }
   ],
   "source": [
    "data['Date'] = data['Date'].apply(str_to_datetime)\n",
    "data['Date']"
   ]
  },
  {
   "cell_type": "code",
   "execution_count": 76,
   "id": "fa906f52",
   "metadata": {},
   "outputs": [
    {
     "data": {
      "text/html": [
       "<div>\n",
       "<style scoped>\n",
       "    .dataframe tbody tr th:only-of-type {\n",
       "        vertical-align: middle;\n",
       "    }\n",
       "\n",
       "    .dataframe tbody tr th {\n",
       "        vertical-align: top;\n",
       "    }\n",
       "\n",
       "    .dataframe thead th {\n",
       "        text-align: right;\n",
       "    }\n",
       "</style>\n",
       "<table border=\"1\" class=\"dataframe\">\n",
       "  <thead>\n",
       "    <tr style=\"text-align: right;\">\n",
       "      <th></th>\n",
       "      <th>AAPL.O</th>\n",
       "      <th>MSFT.O</th>\n",
       "      <th>GOOGL.O</th>\n",
       "      <th>AMZN.O</th>\n",
       "      <th>NVDA.O</th>\n",
       "      <th>META.O</th>\n",
       "      <th>BRKb</th>\n",
       "      <th>TSLA.O</th>\n",
       "      <th>LLY</th>\n",
       "      <th>V</th>\n",
       "      <th>...</th>\n",
       "      <th>MDLZ.O</th>\n",
       "      <th>LRCX.O</th>\n",
       "      <th>REGN.O</th>\n",
       "      <th>AMT</th>\n",
       "      <th>PGR</th>\n",
       "      <th>ADP.O</th>\n",
       "      <th>ETN</th>\n",
       "      <th>MMC</th>\n",
       "      <th>ADI.O</th>\n",
       "      <th>CB</th>\n",
       "    </tr>\n",
       "    <tr>\n",
       "      <th>Date</th>\n",
       "      <th></th>\n",
       "      <th></th>\n",
       "      <th></th>\n",
       "      <th></th>\n",
       "      <th></th>\n",
       "      <th></th>\n",
       "      <th></th>\n",
       "      <th></th>\n",
       "      <th></th>\n",
       "      <th></th>\n",
       "      <th></th>\n",
       "      <th></th>\n",
       "      <th></th>\n",
       "      <th></th>\n",
       "      <th></th>\n",
       "      <th></th>\n",
       "      <th></th>\n",
       "      <th></th>\n",
       "      <th></th>\n",
       "      <th></th>\n",
       "      <th></th>\n",
       "    </tr>\n",
       "  </thead>\n",
       "  <tbody>\n",
       "    <tr>\n",
       "      <th>2013-01-02</th>\n",
       "      <td>0.394759</td>\n",
       "      <td>0.204164</td>\n",
       "      <td>0.160624</td>\n",
       "      <td>0.259588</td>\n",
       "      <td>0.255805</td>\n",
       "      <td>0.417448</td>\n",
       "      <td>0.175771</td>\n",
       "      <td>0.303948</td>\n",
       "      <td>0.195200</td>\n",
       "      <td>0.171026</td>\n",
       "      <td>...</td>\n",
       "      <td>0.195187</td>\n",
       "      <td>0.293085</td>\n",
       "      <td>0.305850</td>\n",
       "      <td>0.137254</td>\n",
       "      <td>0.171489</td>\n",
       "      <td>0.145849</td>\n",
       "      <td>0.233725</td>\n",
       "      <td>0.148091</td>\n",
       "      <td>0.200371</td>\n",
       "      <td>0.170832</td>\n",
       "    </tr>\n",
       "    <tr>\n",
       "      <th>2013-01-03</th>\n",
       "      <td>0.395757</td>\n",
       "      <td>0.208856</td>\n",
       "      <td>0.159135</td>\n",
       "      <td>0.258251</td>\n",
       "      <td>0.243873</td>\n",
       "      <td>0.399197</td>\n",
       "      <td>0.174278</td>\n",
       "      <td>0.300405</td>\n",
       "      <td>0.195320</td>\n",
       "      <td>0.167979</td>\n",
       "      <td>...</td>\n",
       "      <td>0.192092</td>\n",
       "      <td>0.302253</td>\n",
       "      <td>0.295365</td>\n",
       "      <td>0.166521</td>\n",
       "      <td>0.177504</td>\n",
       "      <td>0.143627</td>\n",
       "      <td>0.218913</td>\n",
       "      <td>0.147615</td>\n",
       "      <td>0.210676</td>\n",
       "      <td>0.171212</td>\n",
       "    </tr>\n",
       "    <tr>\n",
       "      <th>2013-01-04</th>\n",
       "      <td>0.402038</td>\n",
       "      <td>0.220225</td>\n",
       "      <td>0.167490</td>\n",
       "      <td>0.257017</td>\n",
       "      <td>0.248701</td>\n",
       "      <td>0.413483</td>\n",
       "      <td>0.171509</td>\n",
       "      <td>0.293261</td>\n",
       "      <td>0.230610</td>\n",
       "      <td>0.165692</td>\n",
       "      <td>...</td>\n",
       "      <td>0.192161</td>\n",
       "      <td>0.297705</td>\n",
       "      <td>0.295445</td>\n",
       "      <td>0.166560</td>\n",
       "      <td>0.179663</td>\n",
       "      <td>0.145369</td>\n",
       "      <td>0.218888</td>\n",
       "      <td>0.146414</td>\n",
       "      <td>0.222877</td>\n",
       "      <td>0.171222</td>\n",
       "    </tr>\n",
       "    <tr>\n",
       "      <th>2013-01-07</th>\n",
       "      <td>0.332536</td>\n",
       "      <td>0.216903</td>\n",
       "      <td>0.167327</td>\n",
       "      <td>0.282636</td>\n",
       "      <td>0.269675</td>\n",
       "      <td>0.419015</td>\n",
       "      <td>0.173562</td>\n",
       "      <td>0.292516</td>\n",
       "      <td>0.230156</td>\n",
       "      <td>0.166345</td>\n",
       "      <td>...</td>\n",
       "      <td>0.188114</td>\n",
       "      <td>0.301152</td>\n",
       "      <td>0.283465</td>\n",
       "      <td>0.166091</td>\n",
       "      <td>0.175517</td>\n",
       "      <td>0.143705</td>\n",
       "      <td>0.231562</td>\n",
       "      <td>0.144032</td>\n",
       "      <td>0.222388</td>\n",
       "      <td>0.173660</td>\n",
       "    </tr>\n",
       "    <tr>\n",
       "      <th>2013-01-08</th>\n",
       "      <td>0.327239</td>\n",
       "      <td>0.217523</td>\n",
       "      <td>0.168126</td>\n",
       "      <td>0.284468</td>\n",
       "      <td>0.283448</td>\n",
       "      <td>0.408740</td>\n",
       "      <td>0.172781</td>\n",
       "      <td>0.300155</td>\n",
       "      <td>0.230088</td>\n",
       "      <td>0.167718</td>\n",
       "      <td>...</td>\n",
       "      <td>0.188147</td>\n",
       "      <td>0.307200</td>\n",
       "      <td>0.298759</td>\n",
       "      <td>0.165878</td>\n",
       "      <td>0.174623</td>\n",
       "      <td>0.143895</td>\n",
       "      <td>0.239140</td>\n",
       "      <td>0.150114</td>\n",
       "      <td>0.226609</td>\n",
       "      <td>0.183130</td>\n",
       "    </tr>\n",
       "    <tr>\n",
       "      <th>...</th>\n",
       "      <td>...</td>\n",
       "      <td>...</td>\n",
       "      <td>...</td>\n",
       "      <td>...</td>\n",
       "      <td>...</td>\n",
       "      <td>...</td>\n",
       "      <td>...</td>\n",
       "      <td>...</td>\n",
       "      <td>...</td>\n",
       "      <td>...</td>\n",
       "      <td>...</td>\n",
       "      <td>...</td>\n",
       "      <td>...</td>\n",
       "      <td>...</td>\n",
       "      <td>...</td>\n",
       "      <td>...</td>\n",
       "      <td>...</td>\n",
       "      <td>...</td>\n",
       "      <td>...</td>\n",
       "      <td>...</td>\n",
       "      <td>...</td>\n",
       "    </tr>\n",
       "    <tr>\n",
       "      <th>2023-12-22</th>\n",
       "      <td>0.142644</td>\n",
       "      <td>0.152017</td>\n",
       "      <td>0.265722</td>\n",
       "      <td>0.183732</td>\n",
       "      <td>0.300429</td>\n",
       "      <td>0.251188</td>\n",
       "      <td>0.112377</td>\n",
       "      <td>0.328612</td>\n",
       "      <td>0.221377</td>\n",
       "      <td>0.110596</td>\n",
       "      <td>...</td>\n",
       "      <td>0.191848</td>\n",
       "      <td>0.305120</td>\n",
       "      <td>0.174392</td>\n",
       "      <td>0.160872</td>\n",
       "      <td>0.229185</td>\n",
       "      <td>0.141688</td>\n",
       "      <td>0.156342</td>\n",
       "      <td>0.246544</td>\n",
       "      <td>0.243801</td>\n",
       "      <td>0.154808</td>\n",
       "    </tr>\n",
       "    <tr>\n",
       "      <th>2023-12-26</th>\n",
       "      <td>0.140558</td>\n",
       "      <td>0.152010</td>\n",
       "      <td>0.260776</td>\n",
       "      <td>0.183770</td>\n",
       "      <td>0.293185</td>\n",
       "      <td>0.247934</td>\n",
       "      <td>0.111985</td>\n",
       "      <td>0.331389</td>\n",
       "      <td>0.217250</td>\n",
       "      <td>0.110698</td>\n",
       "      <td>...</td>\n",
       "      <td>0.193363</td>\n",
       "      <td>0.309648</td>\n",
       "      <td>0.173624</td>\n",
       "      <td>0.160862</td>\n",
       "      <td>0.227223</td>\n",
       "      <td>0.143380</td>\n",
       "      <td>0.156762</td>\n",
       "      <td>0.245336</td>\n",
       "      <td>0.244412</td>\n",
       "      <td>0.156492</td>\n",
       "    </tr>\n",
       "    <tr>\n",
       "      <th>2023-12-27</th>\n",
       "      <td>0.140424</td>\n",
       "      <td>0.151528</td>\n",
       "      <td>0.262720</td>\n",
       "      <td>0.183184</td>\n",
       "      <td>0.291714</td>\n",
       "      <td>0.244286</td>\n",
       "      <td>0.111528</td>\n",
       "      <td>0.335122</td>\n",
       "      <td>0.223289</td>\n",
       "      <td>0.110747</td>\n",
       "      <td>...</td>\n",
       "      <td>0.194650</td>\n",
       "      <td>0.310221</td>\n",
       "      <td>0.194757</td>\n",
       "      <td>0.159658</td>\n",
       "      <td>0.226558</td>\n",
       "      <td>0.142111</td>\n",
       "      <td>0.156581</td>\n",
       "      <td>0.247162</td>\n",
       "      <td>0.244470</td>\n",
       "      <td>0.155199</td>\n",
       "    </tr>\n",
       "    <tr>\n",
       "      <th>2023-12-28</th>\n",
       "      <td>0.140256</td>\n",
       "      <td>0.146611</td>\n",
       "      <td>0.262335</td>\n",
       "      <td>0.181752</td>\n",
       "      <td>0.289482</td>\n",
       "      <td>0.241846</td>\n",
       "      <td>0.111248</td>\n",
       "      <td>0.326578</td>\n",
       "      <td>0.223265</td>\n",
       "      <td>0.109949</td>\n",
       "      <td>...</td>\n",
       "      <td>0.194603</td>\n",
       "      <td>0.303298</td>\n",
       "      <td>0.195234</td>\n",
       "      <td>0.158004</td>\n",
       "      <td>0.226790</td>\n",
       "      <td>0.142477</td>\n",
       "      <td>0.137460</td>\n",
       "      <td>0.243547</td>\n",
       "      <td>0.243149</td>\n",
       "      <td>0.149851</td>\n",
       "    </tr>\n",
       "    <tr>\n",
       "      <th>2023-12-29</th>\n",
       "      <td>0.140264</td>\n",
       "      <td>0.143021</td>\n",
       "      <td>0.255476</td>\n",
       "      <td>0.184608</td>\n",
       "      <td>0.288956</td>\n",
       "      <td>0.233772</td>\n",
       "      <td>0.110846</td>\n",
       "      <td>0.331511</td>\n",
       "      <td>0.223757</td>\n",
       "      <td>0.109227</td>\n",
       "      <td>...</td>\n",
       "      <td>0.187350</td>\n",
       "      <td>0.306719</td>\n",
       "      <td>0.196551</td>\n",
       "      <td>0.155382</td>\n",
       "      <td>0.228222</td>\n",
       "      <td>0.142553</td>\n",
       "      <td>0.137626</td>\n",
       "      <td>0.244117</td>\n",
       "      <td>0.246006</td>\n",
       "      <td>0.151854</td>\n",
       "    </tr>\n",
       "  </tbody>\n",
       "</table>\n",
       "<p>2768 rows × 97 columns</p>\n",
       "</div>"
      ],
      "text/plain": [
       "              AAPL.O    MSFT.O   GOOGL.O    AMZN.O    NVDA.O    META.O  \\\n",
       "Date                                                                     \n",
       "2013-01-02  0.394759  0.204164  0.160624  0.259588  0.255805  0.417448   \n",
       "2013-01-03  0.395757  0.208856  0.159135  0.258251  0.243873  0.399197   \n",
       "2013-01-04  0.402038  0.220225  0.167490  0.257017  0.248701  0.413483   \n",
       "2013-01-07  0.332536  0.216903  0.167327  0.282636  0.269675  0.419015   \n",
       "2013-01-08  0.327239  0.217523  0.168126  0.284468  0.283448  0.408740   \n",
       "...              ...       ...       ...       ...       ...       ...   \n",
       "2023-12-22  0.142644  0.152017  0.265722  0.183732  0.300429  0.251188   \n",
       "2023-12-26  0.140558  0.152010  0.260776  0.183770  0.293185  0.247934   \n",
       "2023-12-27  0.140424  0.151528  0.262720  0.183184  0.291714  0.244286   \n",
       "2023-12-28  0.140256  0.146611  0.262335  0.181752  0.289482  0.241846   \n",
       "2023-12-29  0.140264  0.143021  0.255476  0.184608  0.288956  0.233772   \n",
       "\n",
       "                BRKb    TSLA.O       LLY         V  ...    MDLZ.O    LRCX.O  \\\n",
       "Date                                                ...                       \n",
       "2013-01-02  0.175771  0.303948  0.195200  0.171026  ...  0.195187  0.293085   \n",
       "2013-01-03  0.174278  0.300405  0.195320  0.167979  ...  0.192092  0.302253   \n",
       "2013-01-04  0.171509  0.293261  0.230610  0.165692  ...  0.192161  0.297705   \n",
       "2013-01-07  0.173562  0.292516  0.230156  0.166345  ...  0.188114  0.301152   \n",
       "2013-01-08  0.172781  0.300155  0.230088  0.167718  ...  0.188147  0.307200   \n",
       "...              ...       ...       ...       ...  ...       ...       ...   \n",
       "2023-12-22  0.112377  0.328612  0.221377  0.110596  ...  0.191848  0.305120   \n",
       "2023-12-26  0.111985  0.331389  0.217250  0.110698  ...  0.193363  0.309648   \n",
       "2023-12-27  0.111528  0.335122  0.223289  0.110747  ...  0.194650  0.310221   \n",
       "2023-12-28  0.111248  0.326578  0.223265  0.109949  ...  0.194603  0.303298   \n",
       "2023-12-29  0.110846  0.331511  0.223757  0.109227  ...  0.187350  0.306719   \n",
       "\n",
       "              REGN.O       AMT       PGR     ADP.O       ETN       MMC  \\\n",
       "Date                                                                     \n",
       "2013-01-02  0.305850  0.137254  0.171489  0.145849  0.233725  0.148091   \n",
       "2013-01-03  0.295365  0.166521  0.177504  0.143627  0.218913  0.147615   \n",
       "2013-01-04  0.295445  0.166560  0.179663  0.145369  0.218888  0.146414   \n",
       "2013-01-07  0.283465  0.166091  0.175517  0.143705  0.231562  0.144032   \n",
       "2013-01-08  0.298759  0.165878  0.174623  0.143895  0.239140  0.150114   \n",
       "...              ...       ...       ...       ...       ...       ...   \n",
       "2023-12-22  0.174392  0.160872  0.229185  0.141688  0.156342  0.246544   \n",
       "2023-12-26  0.173624  0.160862  0.227223  0.143380  0.156762  0.245336   \n",
       "2023-12-27  0.194757  0.159658  0.226558  0.142111  0.156581  0.247162   \n",
       "2023-12-28  0.195234  0.158004  0.226790  0.142477  0.137460  0.243547   \n",
       "2023-12-29  0.196551  0.155382  0.228222  0.142553  0.137626  0.244117   \n",
       "\n",
       "               ADI.O        CB  \n",
       "Date                            \n",
       "2013-01-02  0.200371  0.170832  \n",
       "2013-01-03  0.210676  0.171212  \n",
       "2013-01-04  0.222877  0.171222  \n",
       "2013-01-07  0.222388  0.173660  \n",
       "2013-01-08  0.226609  0.183130  \n",
       "...              ...       ...  \n",
       "2023-12-22  0.243801  0.154808  \n",
       "2023-12-26  0.244412  0.156492  \n",
       "2023-12-27  0.244470  0.155199  \n",
       "2023-12-28  0.243149  0.149851  \n",
       "2023-12-29  0.246006  0.151854  \n",
       "\n",
       "[2768 rows x 97 columns]"
      ]
     },
     "execution_count": 76,
     "metadata": {},
     "output_type": "execute_result"
    }
   ],
   "source": [
    "data.index = data.pop('Date')\n",
    "data"
   ]
  },
  {
   "cell_type": "code",
   "execution_count": 77,
   "id": "ca44418e",
   "metadata": {},
   "outputs": [],
   "source": [
    "def df_to_X_Y(df, window_size=21):\n",
    "  df_as_np = df.to_numpy()\n",
    "  X = []\n",
    "  y = []\n",
    "  for i in range(len(df_as_np)-window_size):\n",
    "    row = [r for r in df_as_np[i:i+window_size]]\n",
    "    X.append(row)\n",
    "    label = [df_as_np[i+window_size]]\n",
    "    y.append(label)\n",
    "  return np.array(X), np.array(y)"
   ]
  },
  {
   "cell_type": "code",
   "execution_count": 78,
   "id": "569b5135",
   "metadata": {},
   "outputs": [
    {
     "data": {
      "text/plain": [
       "((2747, 21, 97), (2747, 1, 97))"
      ]
     },
     "execution_count": 78,
     "metadata": {},
     "output_type": "execute_result"
    }
   ],
   "source": [
    "X, Y = df_to_X_Y(data)\n",
    "X.shape, Y.shape"
   ]
  },
  {
   "cell_type": "code",
   "execution_count": 65,
   "id": "b1298b9e",
   "metadata": {},
   "outputs": [
    {
     "data": {
      "text/plain": [
       "(21, 97)"
      ]
     },
     "execution_count": 65,
     "metadata": {},
     "output_type": "execute_result"
    }
   ],
   "source": [
    "X[0].shape"
   ]
  },
  {
   "cell_type": "code",
   "execution_count": 79,
   "id": "b037af33",
   "metadata": {},
   "outputs": [],
   "source": [
    "q_80 = int(len(data.index) * .8)\n",
    "q_90 = int(len(data.index) * .9)\n",
    "\n",
    "X_train, Y_train =  X[:q_80], Y[:q_80]\n",
    "\n",
    "X_val, Y_val =  X[q_80:q_90], Y[q_80:q_90]\n",
    "X_test, Y_test =  X[q_90:], Y[q_90:]"
   ]
  },
  {
   "cell_type": "code",
   "execution_count": 118,
   "id": "8e2403b6",
   "metadata": {},
   "outputs": [
    {
     "data": {
      "text/html": [
       "<pre style=\"white-space:pre;overflow-x:auto;line-height:normal;font-family:Menlo,'DejaVu Sans Mono',consolas,'Courier New',monospace\"><span style=\"font-weight: bold\">Model: \"sequential_11\"</span>\n",
       "</pre>\n"
      ],
      "text/plain": [
       "\u001b[1mModel: \"sequential_11\"\u001b[0m\n"
      ]
     },
     "metadata": {},
     "output_type": "display_data"
    },
    {
     "data": {
      "text/html": [
       "<pre style=\"white-space:pre;overflow-x:auto;line-height:normal;font-family:Menlo,'DejaVu Sans Mono',consolas,'Courier New',monospace\">┏━━━━━━━━━━━━━━━━━━━━━━━━━━━━━━━━━┳━━━━━━━━━━━━━━━━━━━━━━━━━━━┳━━━━━━━━━━━━┓\n",
       "┃<span style=\"font-weight: bold\"> Layer (type)                    </span>┃<span style=\"font-weight: bold\"> Output Shape              </span>┃<span style=\"font-weight: bold\">    Param # </span>┃\n",
       "┡━━━━━━━━━━━━━━━━━━━━━━━━━━━━━━━━━╇━━━━━━━━━━━━━━━━━━━━━━━━━━━╇━━━━━━━━━━━━┩\n",
       "│ lstm_14 (<span style=\"color: #0087ff; text-decoration-color: #0087ff\">LSTM</span>)                  │ (<span style=\"color: #00d7ff; text-decoration-color: #00d7ff\">None</span>, <span style=\"color: #00af00; text-decoration-color: #00af00\">64</span>)                │     <span style=\"color: #00af00; text-decoration-color: #00af00\">41,472</span> │\n",
       "├─────────────────────────────────┼───────────────────────────┼────────────┤\n",
       "│ dense_11 (<span style=\"color: #0087ff; text-decoration-color: #0087ff\">Dense</span>)                │ (<span style=\"color: #00d7ff; text-decoration-color: #00d7ff\">None</span>, <span style=\"color: #00af00; text-decoration-color: #00af00\">97</span>)                │      <span style=\"color: #00af00; text-decoration-color: #00af00\">6,305</span> │\n",
       "└─────────────────────────────────┴───────────────────────────┴────────────┘\n",
       "</pre>\n"
      ],
      "text/plain": [
       "┏━━━━━━━━━━━━━━━━━━━━━━━━━━━━━━━━━┳━━━━━━━━━━━━━━━━━━━━━━━━━━━┳━━━━━━━━━━━━┓\n",
       "┃\u001b[1m \u001b[0m\u001b[1mLayer (type)                   \u001b[0m\u001b[1m \u001b[0m┃\u001b[1m \u001b[0m\u001b[1mOutput Shape             \u001b[0m\u001b[1m \u001b[0m┃\u001b[1m \u001b[0m\u001b[1m   Param #\u001b[0m\u001b[1m \u001b[0m┃\n",
       "┡━━━━━━━━━━━━━━━━━━━━━━━━━━━━━━━━━╇━━━━━━━━━━━━━━━━━━━━━━━━━━━╇━━━━━━━━━━━━┩\n",
       "│ lstm_14 (\u001b[38;5;33mLSTM\u001b[0m)                  │ (\u001b[38;5;45mNone\u001b[0m, \u001b[38;5;34m64\u001b[0m)                │     \u001b[38;5;34m41,472\u001b[0m │\n",
       "├─────────────────────────────────┼───────────────────────────┼────────────┤\n",
       "│ dense_11 (\u001b[38;5;33mDense\u001b[0m)                │ (\u001b[38;5;45mNone\u001b[0m, \u001b[38;5;34m97\u001b[0m)                │      \u001b[38;5;34m6,305\u001b[0m │\n",
       "└─────────────────────────────────┴───────────────────────────┴────────────┘\n"
      ]
     },
     "metadata": {},
     "output_type": "display_data"
    },
    {
     "data": {
      "text/html": [
       "<pre style=\"white-space:pre;overflow-x:auto;line-height:normal;font-family:Menlo,'DejaVu Sans Mono',consolas,'Courier New',monospace\"><span style=\"font-weight: bold\"> Total params: </span><span style=\"color: #00af00; text-decoration-color: #00af00\">47,777</span> (186.63 KB)\n",
       "</pre>\n"
      ],
      "text/plain": [
       "\u001b[1m Total params: \u001b[0m\u001b[38;5;34m47,777\u001b[0m (186.63 KB)\n"
      ]
     },
     "metadata": {},
     "output_type": "display_data"
    },
    {
     "data": {
      "text/html": [
       "<pre style=\"white-space:pre;overflow-x:auto;line-height:normal;font-family:Menlo,'DejaVu Sans Mono',consolas,'Courier New',monospace\"><span style=\"font-weight: bold\"> Trainable params: </span><span style=\"color: #00af00; text-decoration-color: #00af00\">47,777</span> (186.63 KB)\n",
       "</pre>\n"
      ],
      "text/plain": [
       "\u001b[1m Trainable params: \u001b[0m\u001b[38;5;34m47,777\u001b[0m (186.63 KB)\n"
      ]
     },
     "metadata": {},
     "output_type": "display_data"
    },
    {
     "data": {
      "text/html": [
       "<pre style=\"white-space:pre;overflow-x:auto;line-height:normal;font-family:Menlo,'DejaVu Sans Mono',consolas,'Courier New',monospace\"><span style=\"font-weight: bold\"> Non-trainable params: </span><span style=\"color: #00af00; text-decoration-color: #00af00\">0</span> (0.00 B)\n",
       "</pre>\n"
      ],
      "text/plain": [
       "\u001b[1m Non-trainable params: \u001b[0m\u001b[38;5;34m0\u001b[0m (0.00 B)\n"
      ]
     },
     "metadata": {},
     "output_type": "display_data"
    }
   ],
   "source": [
    "from tensorflow.keras.models import Sequential\n",
    "from tensorflow.keras.optimizers import Adam\n",
    "from tensorflow.keras import layers\n",
    "\n",
    "model = Sequential([layers.Input((21, 97)),\n",
    "                    layers.LSTM(64),\n",
    "                    layers.Dense(97)])\n",
    "\n",
    "model.summary()"
   ]
  },
  {
   "cell_type": "code",
   "execution_count": 14,
   "id": "1a9c36d5",
   "metadata": {
    "scrolled": true
   },
   "outputs": [],
   "source": [
    "from keras import ops\n",
    "\n",
    "def qlike(y_true, y_pred):\n",
    "    sum = ops.log(y_pred+1e-16) + y_true/y_pred\n",
    "    return ops.mean(sum, axis=-1)  # Note the `axis=-1`"
   ]
  },
  {
   "cell_type": "code",
   "execution_count": 82,
   "id": "4195d31a",
   "metadata": {},
   "outputs": [],
   "source": [
    "model.compile(loss='mse', \n",
    "              optimizer=Adam(learning_rate=0.001),\n",
    "              metrics=['mean_absolute_error'])"
   ]
  },
  {
   "cell_type": "code",
   "execution_count": 83,
   "id": "7cc0afa3",
   "metadata": {},
   "outputs": [
    {
     "name": "stdout",
     "output_type": "stream",
     "text": [
      "Epoch 1/100\n",
      "\u001b[1m70/70\u001b[0m \u001b[32m━━━━━━━━━━━━━━━━━━━━\u001b[0m\u001b[37m\u001b[0m \u001b[1m5s\u001b[0m 21ms/step - loss: 0.0384 - mean_absolute_error: 0.1345 - val_loss: 0.0201 - val_mean_absolute_error: 0.1021\n",
      "Epoch 2/100\n",
      "\u001b[1m70/70\u001b[0m \u001b[32m━━━━━━━━━━━━━━━━━━━━\u001b[0m\u001b[37m\u001b[0m \u001b[1m1s\u001b[0m 13ms/step - loss: 0.0189 - mean_absolute_error: 0.0845 - val_loss: 0.0181 - val_mean_absolute_error: 0.0955\n",
      "Epoch 3/100\n",
      "\u001b[1m70/70\u001b[0m \u001b[32m━━━━━━━━━━━━━━━━━━━━\u001b[0m\u001b[37m\u001b[0m \u001b[1m1s\u001b[0m 13ms/step - loss: 0.0188 - mean_absolute_error: 0.0855 - val_loss: 0.0204 - val_mean_absolute_error: 0.1037\n",
      "Epoch 4/100\n",
      "\u001b[1m70/70\u001b[0m \u001b[32m━━━━━━━━━━━━━━━━━━━━\u001b[0m\u001b[37m\u001b[0m \u001b[1m1s\u001b[0m 13ms/step - loss: 0.0203 - mean_absolute_error: 0.0861 - val_loss: 0.0182 - val_mean_absolute_error: 0.0967\n",
      "Epoch 5/100\n",
      "\u001b[1m70/70\u001b[0m \u001b[32m━━━━━━━━━━━━━━━━━━━━\u001b[0m\u001b[37m\u001b[0m \u001b[1m1s\u001b[0m 13ms/step - loss: 0.0171 - mean_absolute_error: 0.0825 - val_loss: 0.0178 - val_mean_absolute_error: 0.0953\n",
      "Epoch 6/100\n",
      "\u001b[1m70/70\u001b[0m \u001b[32m━━━━━━━━━━━━━━━━━━━━\u001b[0m\u001b[37m\u001b[0m \u001b[1m1s\u001b[0m 18ms/step - loss: 0.0214 - mean_absolute_error: 0.0881 - val_loss: 0.0181 - val_mean_absolute_error: 0.0963\n",
      "Epoch 7/100\n",
      "\u001b[1m70/70\u001b[0m \u001b[32m━━━━━━━━━━━━━━━━━━━━\u001b[0m\u001b[37m\u001b[0m \u001b[1m1s\u001b[0m 18ms/step - loss: 0.0176 - mean_absolute_error: 0.0833 - val_loss: 0.0184 - val_mean_absolute_error: 0.0972\n",
      "Epoch 8/100\n",
      "\u001b[1m70/70\u001b[0m \u001b[32m━━━━━━━━━━━━━━━━━━━━\u001b[0m\u001b[37m\u001b[0m \u001b[1m1s\u001b[0m 15ms/step - loss: 0.0196 - mean_absolute_error: 0.0883 - val_loss: 0.0197 - val_mean_absolute_error: 0.1013\n",
      "Epoch 9/100\n",
      "\u001b[1m70/70\u001b[0m \u001b[32m━━━━━━━━━━━━━━━━━━━━\u001b[0m\u001b[37m\u001b[0m \u001b[1m1s\u001b[0m 16ms/step - loss: 0.0191 - mean_absolute_error: 0.0838 - val_loss: 0.0201 - val_mean_absolute_error: 0.1032\n",
      "Epoch 10/100\n",
      "\u001b[1m70/70\u001b[0m \u001b[32m━━━━━━━━━━━━━━━━━━━━\u001b[0m\u001b[37m\u001b[0m \u001b[1m1s\u001b[0m 17ms/step - loss: 0.0196 - mean_absolute_error: 0.0862 - val_loss: 0.0216 - val_mean_absolute_error: 0.1076\n",
      "Epoch 11/100\n",
      "\u001b[1m70/70\u001b[0m \u001b[32m━━━━━━━━━━━━━━━━━━━━\u001b[0m\u001b[37m\u001b[0m \u001b[1m1s\u001b[0m 15ms/step - loss: 0.0176 - mean_absolute_error: 0.0823 - val_loss: 0.0182 - val_mean_absolute_error: 0.0961\n",
      "Epoch 12/100\n",
      "\u001b[1m70/70\u001b[0m \u001b[32m━━━━━━━━━━━━━━━━━━━━\u001b[0m\u001b[37m\u001b[0m \u001b[1m1s\u001b[0m 18ms/step - loss: 0.0180 - mean_absolute_error: 0.0835 - val_loss: 0.0200 - val_mean_absolute_error: 0.1022\n",
      "Epoch 13/100\n",
      "\u001b[1m70/70\u001b[0m \u001b[32m━━━━━━━━━━━━━━━━━━━━\u001b[0m\u001b[37m\u001b[0m \u001b[1m2s\u001b[0m 29ms/step - loss: 0.0200 - mean_absolute_error: 0.0856 - val_loss: 0.0187 - val_mean_absolute_error: 0.0978\n",
      "Epoch 14/100\n",
      "\u001b[1m70/70\u001b[0m \u001b[32m━━━━━━━━━━━━━━━━━━━━\u001b[0m\u001b[37m\u001b[0m \u001b[1m1s\u001b[0m 14ms/step - loss: 0.0209 - mean_absolute_error: 0.0874 - val_loss: 0.0214 - val_mean_absolute_error: 0.1073\n",
      "Epoch 15/100\n",
      "\u001b[1m70/70\u001b[0m \u001b[32m━━━━━━━━━━━━━━━━━━━━\u001b[0m\u001b[37m\u001b[0m \u001b[1m1s\u001b[0m 14ms/step - loss: 0.0184 - mean_absolute_error: 0.0833 - val_loss: 0.0194 - val_mean_absolute_error: 0.1005\n",
      "Epoch 16/100\n",
      "\u001b[1m70/70\u001b[0m \u001b[32m━━━━━━━━━━━━━━━━━━━━\u001b[0m\u001b[37m\u001b[0m \u001b[1m1s\u001b[0m 15ms/step - loss: 0.0171 - mean_absolute_error: 0.0823 - val_loss: 0.0198 - val_mean_absolute_error: 0.1016\n",
      "Epoch 17/100\n",
      "\u001b[1m70/70\u001b[0m \u001b[32m━━━━━━━━━━━━━━━━━━━━\u001b[0m\u001b[37m\u001b[0m \u001b[1m2s\u001b[0m 22ms/step - loss: 0.0157 - mean_absolute_error: 0.0799 - val_loss: 0.0184 - val_mean_absolute_error: 0.0969\n",
      "Epoch 18/100\n",
      "\u001b[1m70/70\u001b[0m \u001b[32m━━━━━━━━━━━━━━━━━━━━\u001b[0m\u001b[37m\u001b[0m \u001b[1m2s\u001b[0m 18ms/step - loss: 0.0205 - mean_absolute_error: 0.0870 - val_loss: 0.0203 - val_mean_absolute_error: 0.1033\n",
      "Epoch 19/100\n",
      "\u001b[1m70/70\u001b[0m \u001b[32m━━━━━━━━━━━━━━━━━━━━\u001b[0m\u001b[37m\u001b[0m \u001b[1m1s\u001b[0m 14ms/step - loss: 0.0177 - mean_absolute_error: 0.0818 - val_loss: 0.0197 - val_mean_absolute_error: 0.1012\n",
      "Epoch 20/100\n",
      "\u001b[1m70/70\u001b[0m \u001b[32m━━━━━━━━━━━━━━━━━━━━\u001b[0m\u001b[37m\u001b[0m \u001b[1m1s\u001b[0m 14ms/step - loss: 0.0175 - mean_absolute_error: 0.0825 - val_loss: 0.0211 - val_mean_absolute_error: 0.1063\n",
      "Epoch 21/100\n",
      "\u001b[1m70/70\u001b[0m \u001b[32m━━━━━━━━━━━━━━━━━━━━\u001b[0m\u001b[37m\u001b[0m \u001b[1m1s\u001b[0m 14ms/step - loss: 0.0193 - mean_absolute_error: 0.0849 - val_loss: 0.0195 - val_mean_absolute_error: 0.1012\n",
      "Epoch 22/100\n",
      "\u001b[1m70/70\u001b[0m \u001b[32m━━━━━━━━━━━━━━━━━━━━\u001b[0m\u001b[37m\u001b[0m \u001b[1m1s\u001b[0m 14ms/step - loss: 0.0167 - mean_absolute_error: 0.0799 - val_loss: 0.0188 - val_mean_absolute_error: 0.0979\n",
      "Epoch 23/100\n",
      "\u001b[1m70/70\u001b[0m \u001b[32m━━━━━━━━━━━━━━━━━━━━\u001b[0m\u001b[37m\u001b[0m \u001b[1m1s\u001b[0m 13ms/step - loss: 0.0159 - mean_absolute_error: 0.0799 - val_loss: 0.0170 - val_mean_absolute_error: 0.0922\n",
      "Epoch 24/100\n",
      "\u001b[1m70/70\u001b[0m \u001b[32m━━━━━━━━━━━━━━━━━━━━\u001b[0m\u001b[37m\u001b[0m \u001b[1m1s\u001b[0m 12ms/step - loss: 0.0193 - mean_absolute_error: 0.0869 - val_loss: 0.0196 - val_mean_absolute_error: 0.1009\n",
      "Epoch 25/100\n",
      "\u001b[1m70/70\u001b[0m \u001b[32m━━━━━━━━━━━━━━━━━━━━\u001b[0m\u001b[37m\u001b[0m \u001b[1m1s\u001b[0m 14ms/step - loss: 0.0151 - mean_absolute_error: 0.0794 - val_loss: 0.0198 - val_mean_absolute_error: 0.1015\n",
      "Epoch 26/100\n",
      "\u001b[1m70/70\u001b[0m \u001b[32m━━━━━━━━━━━━━━━━━━━━\u001b[0m\u001b[37m\u001b[0m \u001b[1m1s\u001b[0m 14ms/step - loss: 0.0166 - mean_absolute_error: 0.0816 - val_loss: 0.0210 - val_mean_absolute_error: 0.1059\n",
      "Epoch 27/100\n",
      "\u001b[1m70/70\u001b[0m \u001b[32m━━━━━━━━━━━━━━━━━━━━\u001b[0m\u001b[37m\u001b[0m \u001b[1m1s\u001b[0m 14ms/step - loss: 0.0162 - mean_absolute_error: 0.0811 - val_loss: 0.0202 - val_mean_absolute_error: 0.1027\n",
      "Epoch 28/100\n",
      "\u001b[1m70/70\u001b[0m \u001b[32m━━━━━━━━━━━━━━━━━━━━\u001b[0m\u001b[37m\u001b[0m \u001b[1m1s\u001b[0m 13ms/step - loss: 0.0182 - mean_absolute_error: 0.0833 - val_loss: 0.0180 - val_mean_absolute_error: 0.0956\n",
      "Epoch 29/100\n",
      "\u001b[1m70/70\u001b[0m \u001b[32m━━━━━━━━━━━━━━━━━━━━\u001b[0m\u001b[37m\u001b[0m \u001b[1m1s\u001b[0m 14ms/step - loss: 0.0159 - mean_absolute_error: 0.0800 - val_loss: 0.0178 - val_mean_absolute_error: 0.0948\n",
      "Epoch 30/100\n",
      "\u001b[1m70/70\u001b[0m \u001b[32m━━━━━━━━━━━━━━━━━━━━\u001b[0m\u001b[37m\u001b[0m \u001b[1m1s\u001b[0m 12ms/step - loss: 0.0197 - mean_absolute_error: 0.0858 - val_loss: 0.0205 - val_mean_absolute_error: 0.1044\n",
      "Epoch 31/100\n",
      "\u001b[1m70/70\u001b[0m \u001b[32m━━━━━━━━━━━━━━━━━━━━\u001b[0m\u001b[37m\u001b[0m \u001b[1m1s\u001b[0m 12ms/step - loss: 0.0180 - mean_absolute_error: 0.0825 - val_loss: 0.0200 - val_mean_absolute_error: 0.1023\n",
      "Epoch 32/100\n",
      "\u001b[1m70/70\u001b[0m \u001b[32m━━━━━━━━━━━━━━━━━━━━\u001b[0m\u001b[37m\u001b[0m \u001b[1m1s\u001b[0m 13ms/step - loss: 0.0188 - mean_absolute_error: 0.0839 - val_loss: 0.0211 - val_mean_absolute_error: 0.1057\n",
      "Epoch 33/100\n",
      "\u001b[1m70/70\u001b[0m \u001b[32m━━━━━━━━━━━━━━━━━━━━\u001b[0m\u001b[37m\u001b[0m \u001b[1m1s\u001b[0m 13ms/step - loss: 0.0173 - mean_absolute_error: 0.0817 - val_loss: 0.0177 - val_mean_absolute_error: 0.0943\n",
      "Epoch 34/100\n",
      "\u001b[1m70/70\u001b[0m \u001b[32m━━━━━━━━━━━━━━━━━━━━\u001b[0m\u001b[37m\u001b[0m \u001b[1m1s\u001b[0m 13ms/step - loss: 0.0186 - mean_absolute_error: 0.0836 - val_loss: 0.0202 - val_mean_absolute_error: 0.1033\n",
      "Epoch 35/100\n",
      "\u001b[1m70/70\u001b[0m \u001b[32m━━━━━━━━━━━━━━━━━━━━\u001b[0m\u001b[37m\u001b[0m \u001b[1m1s\u001b[0m 13ms/step - loss: 0.0172 - mean_absolute_error: 0.0824 - val_loss: 0.0192 - val_mean_absolute_error: 0.0993\n",
      "Epoch 36/100\n",
      "\u001b[1m70/70\u001b[0m \u001b[32m━━━━━━━━━━━━━━━━━━━━\u001b[0m\u001b[37m\u001b[0m \u001b[1m1s\u001b[0m 14ms/step - loss: 0.0190 - mean_absolute_error: 0.0837 - val_loss: 0.0161 - val_mean_absolute_error: 0.0891\n",
      "Epoch 37/100\n",
      "\u001b[1m70/70\u001b[0m \u001b[32m━━━━━━━━━━━━━━━━━━━━\u001b[0m\u001b[37m\u001b[0m \u001b[1m1s\u001b[0m 14ms/step - loss: 0.0193 - mean_absolute_error: 0.0865 - val_loss: 0.0185 - val_mean_absolute_error: 0.0968\n",
      "Epoch 38/100\n",
      "\u001b[1m70/70\u001b[0m \u001b[32m━━━━━━━━━━━━━━━━━━━━\u001b[0m\u001b[37m\u001b[0m \u001b[1m1s\u001b[0m 17ms/step - loss: 0.0176 - mean_absolute_error: 0.0824 - val_loss: 0.0201 - val_mean_absolute_error: 0.1023\n",
      "Epoch 39/100\n",
      "\u001b[1m70/70\u001b[0m \u001b[32m━━━━━━━━━━━━━━━━━━━━\u001b[0m\u001b[37m\u001b[0m \u001b[1m1s\u001b[0m 14ms/step - loss: 0.0161 - mean_absolute_error: 0.0800 - val_loss: 0.0231 - val_mean_absolute_error: 0.1127\n",
      "Epoch 40/100\n",
      "\u001b[1m70/70\u001b[0m \u001b[32m━━━━━━━━━━━━━━━━━━━━\u001b[0m\u001b[37m\u001b[0m \u001b[1m1s\u001b[0m 15ms/step - loss: 0.0165 - mean_absolute_error: 0.0807 - val_loss: 0.0207 - val_mean_absolute_error: 0.1047\n",
      "Epoch 41/100\n",
      "\u001b[1m70/70\u001b[0m \u001b[32m━━━━━━━━━━━━━━━━━━━━\u001b[0m\u001b[37m\u001b[0m \u001b[1m1s\u001b[0m 15ms/step - loss: 0.0162 - mean_absolute_error: 0.0805 - val_loss: 0.0214 - val_mean_absolute_error: 0.1070\n",
      "Epoch 42/100\n",
      "\u001b[1m70/70\u001b[0m \u001b[32m━━━━━━━━━━━━━━━━━━━━\u001b[0m\u001b[37m\u001b[0m \u001b[1m1s\u001b[0m 13ms/step - loss: 0.0172 - mean_absolute_error: 0.0828 - val_loss: 0.0209 - val_mean_absolute_error: 0.1050\n",
      "Epoch 43/100\n",
      "\u001b[1m70/70\u001b[0m \u001b[32m━━━━━━━━━━━━━━━━━━━━\u001b[0m\u001b[37m\u001b[0m \u001b[1m1s\u001b[0m 15ms/step - loss: 0.0156 - mean_absolute_error: 0.0783 - val_loss: 0.0170 - val_mean_absolute_error: 0.0926\n",
      "Epoch 44/100\n",
      "\u001b[1m70/70\u001b[0m \u001b[32m━━━━━━━━━━━━━━━━━━━━\u001b[0m\u001b[37m\u001b[0m \u001b[1m2s\u001b[0m 22ms/step - loss: 0.0190 - mean_absolute_error: 0.0852 - val_loss: 0.0206 - val_mean_absolute_error: 0.1046\n",
      "Epoch 45/100\n"
     ]
    },
    {
     "name": "stdout",
     "output_type": "stream",
     "text": [
      "\u001b[1m70/70\u001b[0m \u001b[32m━━━━━━━━━━━━━━━━━━━━\u001b[0m\u001b[37m\u001b[0m \u001b[1m1s\u001b[0m 16ms/step - loss: 0.0160 - mean_absolute_error: 0.0801 - val_loss: 0.0205 - val_mean_absolute_error: 0.1039\n",
      "Epoch 46/100\n",
      "\u001b[1m70/70\u001b[0m \u001b[32m━━━━━━━━━━━━━━━━━━━━\u001b[0m\u001b[37m\u001b[0m \u001b[1m1s\u001b[0m 18ms/step - loss: 0.0164 - mean_absolute_error: 0.0812 - val_loss: 0.0204 - val_mean_absolute_error: 0.1040\n",
      "Epoch 47/100\n",
      "\u001b[1m70/70\u001b[0m \u001b[32m━━━━━━━━━━━━━━━━━━━━\u001b[0m\u001b[37m\u001b[0m \u001b[1m3s\u001b[0m 23ms/step - loss: 0.0182 - mean_absolute_error: 0.0829 - val_loss: 0.0188 - val_mean_absolute_error: 0.0983\n",
      "Epoch 48/100\n",
      "\u001b[1m70/70\u001b[0m \u001b[32m━━━━━━━━━━━━━━━━━━━━\u001b[0m\u001b[37m\u001b[0m \u001b[1m2s\u001b[0m 16ms/step - loss: 0.0205 - mean_absolute_error: 0.0856 - val_loss: 0.0186 - val_mean_absolute_error: 0.0974\n",
      "Epoch 49/100\n",
      "\u001b[1m70/70\u001b[0m \u001b[32m━━━━━━━━━━━━━━━━━━━━\u001b[0m\u001b[37m\u001b[0m \u001b[1m1s\u001b[0m 14ms/step - loss: 0.0178 - mean_absolute_error: 0.0827 - val_loss: 0.0173 - val_mean_absolute_error: 0.0930\n",
      "Epoch 50/100\n",
      "\u001b[1m70/70\u001b[0m \u001b[32m━━━━━━━━━━━━━━━━━━━━\u001b[0m\u001b[37m\u001b[0m \u001b[1m1s\u001b[0m 14ms/step - loss: 0.0193 - mean_absolute_error: 0.0859 - val_loss: 0.0182 - val_mean_absolute_error: 0.0966\n",
      "Epoch 51/100\n",
      "\u001b[1m70/70\u001b[0m \u001b[32m━━━━━━━━━━━━━━━━━━━━\u001b[0m\u001b[37m\u001b[0m \u001b[1m1s\u001b[0m 12ms/step - loss: 0.0174 - mean_absolute_error: 0.0822 - val_loss: 0.0198 - val_mean_absolute_error: 0.1018\n",
      "Epoch 52/100\n",
      "\u001b[1m70/70\u001b[0m \u001b[32m━━━━━━━━━━━━━━━━━━━━\u001b[0m\u001b[37m\u001b[0m \u001b[1m1s\u001b[0m 13ms/step - loss: 0.0189 - mean_absolute_error: 0.0850 - val_loss: 0.0177 - val_mean_absolute_error: 0.0941\n",
      "Epoch 53/100\n",
      "\u001b[1m70/70\u001b[0m \u001b[32m━━━━━━━━━━━━━━━━━━━━\u001b[0m\u001b[37m\u001b[0m \u001b[1m1s\u001b[0m 12ms/step - loss: 0.0165 - mean_absolute_error: 0.0823 - val_loss: 0.0203 - val_mean_absolute_error: 0.1038\n",
      "Epoch 54/100\n",
      "\u001b[1m70/70\u001b[0m \u001b[32m━━━━━━━━━━━━━━━━━━━━\u001b[0m\u001b[37m\u001b[0m \u001b[1m2s\u001b[0m 25ms/step - loss: 0.0176 - mean_absolute_error: 0.0821 - val_loss: 0.0205 - val_mean_absolute_error: 0.1040\n",
      "Epoch 55/100\n",
      "\u001b[1m70/70\u001b[0m \u001b[32m━━━━━━━━━━━━━━━━━━━━\u001b[0m\u001b[37m\u001b[0m \u001b[1m3s\u001b[0m 27ms/step - loss: 0.0159 - mean_absolute_error: 0.0800 - val_loss: 0.0158 - val_mean_absolute_error: 0.0878\n",
      "Epoch 56/100\n",
      "\u001b[1m70/70\u001b[0m \u001b[32m━━━━━━━━━━━━━━━━━━━━\u001b[0m\u001b[37m\u001b[0m \u001b[1m3s\u001b[0m 30ms/step - loss: 0.0200 - mean_absolute_error: 0.0866 - val_loss: 0.0191 - val_mean_absolute_error: 0.0995\n",
      "Epoch 57/100\n",
      "\u001b[1m70/70\u001b[0m \u001b[32m━━━━━━━━━━━━━━━━━━━━\u001b[0m\u001b[37m\u001b[0m \u001b[1m3s\u001b[0m 29ms/step - loss: 0.0169 - mean_absolute_error: 0.0820 - val_loss: 0.0214 - val_mean_absolute_error: 0.1068\n",
      "Epoch 58/100\n",
      "\u001b[1m70/70\u001b[0m \u001b[32m━━━━━━━━━━━━━━━━━━━━\u001b[0m\u001b[37m\u001b[0m \u001b[1m3s\u001b[0m 36ms/step - loss: 0.0164 - mean_absolute_error: 0.0810 - val_loss: 0.0183 - val_mean_absolute_error: 0.0969\n",
      "Epoch 59/100\n",
      "\u001b[1m70/70\u001b[0m \u001b[32m━━━━━━━━━━━━━━━━━━━━\u001b[0m\u001b[37m\u001b[0m \u001b[1m3s\u001b[0m 39ms/step - loss: 0.0186 - mean_absolute_error: 0.0838 - val_loss: 0.0204 - val_mean_absolute_error: 0.1040\n",
      "Epoch 60/100\n",
      "\u001b[1m70/70\u001b[0m \u001b[32m━━━━━━━━━━━━━━━━━━━━\u001b[0m\u001b[37m\u001b[0m \u001b[1m5s\u001b[0m 33ms/step - loss: 0.0187 - mean_absolute_error: 0.0834 - val_loss: 0.0204 - val_mean_absolute_error: 0.1034\n",
      "Epoch 61/100\n",
      "\u001b[1m70/70\u001b[0m \u001b[32m━━━━━━━━━━━━━━━━━━━━\u001b[0m\u001b[37m\u001b[0m \u001b[1m2s\u001b[0m 19ms/step - loss: 0.0180 - mean_absolute_error: 0.0826 - val_loss: 0.0198 - val_mean_absolute_error: 0.1014\n",
      "Epoch 62/100\n",
      "\u001b[1m70/70\u001b[0m \u001b[32m━━━━━━━━━━━━━━━━━━━━\u001b[0m\u001b[37m\u001b[0m \u001b[1m1s\u001b[0m 16ms/step - loss: 0.0174 - mean_absolute_error: 0.0815 - val_loss: 0.0206 - val_mean_absolute_error: 0.1039\n",
      "Epoch 63/100\n",
      "\u001b[1m70/70\u001b[0m \u001b[32m━━━━━━━━━━━━━━━━━━━━\u001b[0m\u001b[37m\u001b[0m \u001b[1m1s\u001b[0m 16ms/step - loss: 0.0192 - mean_absolute_error: 0.0831 - val_loss: 0.0204 - val_mean_absolute_error: 0.1040\n",
      "Epoch 64/100\n",
      "\u001b[1m70/70\u001b[0m \u001b[32m━━━━━━━━━━━━━━━━━━━━\u001b[0m\u001b[37m\u001b[0m \u001b[1m1s\u001b[0m 16ms/step - loss: 0.0187 - mean_absolute_error: 0.0826 - val_loss: 0.0198 - val_mean_absolute_error: 0.1016\n",
      "Epoch 65/100\n",
      "\u001b[1m70/70\u001b[0m \u001b[32m━━━━━━━━━━━━━━━━━━━━\u001b[0m\u001b[37m\u001b[0m \u001b[1m1s\u001b[0m 17ms/step - loss: 0.0194 - mean_absolute_error: 0.0851 - val_loss: 0.0233 - val_mean_absolute_error: 0.1134\n",
      "Epoch 66/100\n",
      "\u001b[1m70/70\u001b[0m \u001b[32m━━━━━━━━━━━━━━━━━━━━\u001b[0m\u001b[37m\u001b[0m \u001b[1m2s\u001b[0m 21ms/step - loss: 0.0167 - mean_absolute_error: 0.0807 - val_loss: 0.0179 - val_mean_absolute_error: 0.0952\n",
      "Epoch 67/100\n",
      "\u001b[1m70/70\u001b[0m \u001b[32m━━━━━━━━━━━━━━━━━━━━\u001b[0m\u001b[37m\u001b[0m \u001b[1m1s\u001b[0m 16ms/step - loss: 0.0187 - mean_absolute_error: 0.0843 - val_loss: 0.0182 - val_mean_absolute_error: 0.0961\n",
      "Epoch 68/100\n",
      "\u001b[1m70/70\u001b[0m \u001b[32m━━━━━━━━━━━━━━━━━━━━\u001b[0m\u001b[37m\u001b[0m \u001b[1m1s\u001b[0m 18ms/step - loss: 0.0192 - mean_absolute_error: 0.0841 - val_loss: 0.0210 - val_mean_absolute_error: 0.1054\n",
      "Epoch 69/100\n",
      "\u001b[1m70/70\u001b[0m \u001b[32m━━━━━━━━━━━━━━━━━━━━\u001b[0m\u001b[37m\u001b[0m \u001b[1m1s\u001b[0m 14ms/step - loss: 0.0180 - mean_absolute_error: 0.0830 - val_loss: 0.0188 - val_mean_absolute_error: 0.0984\n",
      "Epoch 70/100\n",
      "\u001b[1m70/70\u001b[0m \u001b[32m━━━━━━━━━━━━━━━━━━━━\u001b[0m\u001b[37m\u001b[0m \u001b[1m1s\u001b[0m 18ms/step - loss: 0.0172 - mean_absolute_error: 0.0824 - val_loss: 0.0192 - val_mean_absolute_error: 0.0995\n",
      "Epoch 71/100\n",
      "\u001b[1m70/70\u001b[0m \u001b[32m━━━━━━━━━━━━━━━━━━━━\u001b[0m\u001b[37m\u001b[0m \u001b[1m2s\u001b[0m 21ms/step - loss: 0.0209 - mean_absolute_error: 0.0856 - val_loss: 0.0210 - val_mean_absolute_error: 0.1058\n",
      "Epoch 72/100\n",
      "\u001b[1m70/70\u001b[0m \u001b[32m━━━━━━━━━━━━━━━━━━━━\u001b[0m\u001b[37m\u001b[0m \u001b[1m2s\u001b[0m 24ms/step - loss: 0.0166 - mean_absolute_error: 0.0802 - val_loss: 0.0181 - val_mean_absolute_error: 0.0958\n",
      "Epoch 73/100\n",
      "\u001b[1m70/70\u001b[0m \u001b[32m━━━━━━━━━━━━━━━━━━━━\u001b[0m\u001b[37m\u001b[0m \u001b[1m2s\u001b[0m 26ms/step - loss: 0.0192 - mean_absolute_error: 0.0846 - val_loss: 0.0189 - val_mean_absolute_error: 0.0984\n",
      "Epoch 74/100\n",
      "\u001b[1m70/70\u001b[0m \u001b[32m━━━━━━━━━━━━━━━━━━━━\u001b[0m\u001b[37m\u001b[0m \u001b[1m3s\u001b[0m 28ms/step - loss: 0.0202 - mean_absolute_error: 0.0866 - val_loss: 0.0191 - val_mean_absolute_error: 0.0990\n",
      "Epoch 75/100\n",
      "\u001b[1m70/70\u001b[0m \u001b[32m━━━━━━━━━━━━━━━━━━━━\u001b[0m\u001b[37m\u001b[0m \u001b[1m1s\u001b[0m 16ms/step - loss: 0.0179 - mean_absolute_error: 0.0828 - val_loss: 0.0234 - val_mean_absolute_error: 0.1145\n",
      "Epoch 76/100\n",
      "\u001b[1m70/70\u001b[0m \u001b[32m━━━━━━━━━━━━━━━━━━━━\u001b[0m\u001b[37m\u001b[0m \u001b[1m2s\u001b[0m 22ms/step - loss: 0.0175 - mean_absolute_error: 0.0816 - val_loss: 0.0192 - val_mean_absolute_error: 0.0992\n",
      "Epoch 77/100\n",
      "\u001b[1m70/70\u001b[0m \u001b[32m━━━━━━━━━━━━━━━━━━━━\u001b[0m\u001b[37m\u001b[0m \u001b[1m2s\u001b[0m 14ms/step - loss: 0.0206 - mean_absolute_error: 0.0861 - val_loss: 0.0195 - val_mean_absolute_error: 0.1004\n",
      "Epoch 78/100\n",
      "\u001b[1m70/70\u001b[0m \u001b[32m━━━━━━━━━━━━━━━━━━━━\u001b[0m\u001b[37m\u001b[0m \u001b[1m1s\u001b[0m 13ms/step - loss: 0.0170 - mean_absolute_error: 0.0822 - val_loss: 0.0167 - val_mean_absolute_error: 0.0911\n",
      "Epoch 79/100\n",
      "\u001b[1m70/70\u001b[0m \u001b[32m━━━━━━━━━━━━━━━━━━━━\u001b[0m\u001b[37m\u001b[0m \u001b[1m1s\u001b[0m 13ms/step - loss: 0.0222 - mean_absolute_error: 0.0898 - val_loss: 0.0196 - val_mean_absolute_error: 0.1009\n",
      "Epoch 80/100\n",
      "\u001b[1m70/70\u001b[0m \u001b[32m━━━━━━━━━━━━━━━━━━━━\u001b[0m\u001b[37m\u001b[0m \u001b[1m1s\u001b[0m 16ms/step - loss: 0.0187 - mean_absolute_error: 0.0843 - val_loss: 0.0197 - val_mean_absolute_error: 0.1013\n",
      "Epoch 81/100\n",
      "\u001b[1m70/70\u001b[0m \u001b[32m━━━━━━━━━━━━━━━━━━━━\u001b[0m\u001b[37m\u001b[0m \u001b[1m1s\u001b[0m 14ms/step - loss: 0.0164 - mean_absolute_error: 0.0813 - val_loss: 0.0187 - val_mean_absolute_error: 0.0975\n",
      "Epoch 82/100\n",
      "\u001b[1m70/70\u001b[0m \u001b[32m━━━━━━━━━━━━━━━━━━━━\u001b[0m\u001b[37m\u001b[0m \u001b[1m1s\u001b[0m 15ms/step - loss: 0.0193 - mean_absolute_error: 0.0856 - val_loss: 0.0202 - val_mean_absolute_error: 0.1029\n",
      "Epoch 83/100\n",
      "\u001b[1m70/70\u001b[0m \u001b[32m━━━━━━━━━━━━━━━━━━━━\u001b[0m\u001b[37m\u001b[0m \u001b[1m2s\u001b[0m 20ms/step - loss: 0.0211 - mean_absolute_error: 0.0847 - val_loss: 0.0185 - val_mean_absolute_error: 0.0972\n",
      "Epoch 84/100\n",
      "\u001b[1m70/70\u001b[0m \u001b[32m━━━━━━━━━━━━━━━━━━━━\u001b[0m\u001b[37m\u001b[0m \u001b[1m1s\u001b[0m 18ms/step - loss: 0.0172 - mean_absolute_error: 0.0819 - val_loss: 0.0208 - val_mean_absolute_error: 0.1048\n",
      "Epoch 85/100\n",
      "\u001b[1m70/70\u001b[0m \u001b[32m━━━━━━━━━━━━━━━━━━━━\u001b[0m\u001b[37m\u001b[0m \u001b[1m2s\u001b[0m 22ms/step - loss: 0.0177 - mean_absolute_error: 0.0814 - val_loss: 0.0190 - val_mean_absolute_error: 0.0991\n",
      "Epoch 86/100\n",
      "\u001b[1m70/70\u001b[0m \u001b[32m━━━━━━━━━━━━━━━━━━━━\u001b[0m\u001b[37m\u001b[0m \u001b[1m2s\u001b[0m 20ms/step - loss: 0.0190 - mean_absolute_error: 0.0823 - val_loss: 0.0175 - val_mean_absolute_error: 0.0939\n",
      "Epoch 87/100\n",
      "\u001b[1m70/70\u001b[0m \u001b[32m━━━━━━━━━━━━━━━━━━━━\u001b[0m\u001b[37m\u001b[0m \u001b[1m1s\u001b[0m 18ms/step - loss: 0.0186 - mean_absolute_error: 0.0841 - val_loss: 0.0209 - val_mean_absolute_error: 0.1054\n",
      "Epoch 88/100\n",
      "\u001b[1m70/70\u001b[0m \u001b[32m━━━━━━━━━━━━━━━━━━━━\u001b[0m\u001b[37m\u001b[0m \u001b[1m1s\u001b[0m 17ms/step - loss: 0.0161 - mean_absolute_error: 0.0793 - val_loss: 0.0161 - val_mean_absolute_error: 0.0895\n",
      "Epoch 89/100\n"
     ]
    },
    {
     "name": "stdout",
     "output_type": "stream",
     "text": [
      "\u001b[1m70/70\u001b[0m \u001b[32m━━━━━━━━━━━━━━━━━━━━\u001b[0m\u001b[37m\u001b[0m \u001b[1m2s\u001b[0m 20ms/step - loss: 0.0171 - mean_absolute_error: 0.0834 - val_loss: 0.0222 - val_mean_absolute_error: 0.1097\n",
      "Epoch 90/100\n",
      "\u001b[1m70/70\u001b[0m \u001b[32m━━━━━━━━━━━━━━━━━━━━\u001b[0m\u001b[37m\u001b[0m \u001b[1m1s\u001b[0m 17ms/step - loss: 0.0200 - mean_absolute_error: 0.0864 - val_loss: 0.0195 - val_mean_absolute_error: 0.1002\n",
      "Epoch 91/100\n",
      "\u001b[1m70/70\u001b[0m \u001b[32m━━━━━━━━━━━━━━━━━━━━\u001b[0m\u001b[37m\u001b[0m \u001b[1m1s\u001b[0m 14ms/step - loss: 0.0175 - mean_absolute_error: 0.0826 - val_loss: 0.0181 - val_mean_absolute_error: 0.0956\n",
      "Epoch 92/100\n",
      "\u001b[1m70/70\u001b[0m \u001b[32m━━━━━━━━━━━━━━━━━━━━\u001b[0m\u001b[37m\u001b[0m \u001b[1m1s\u001b[0m 14ms/step - loss: 0.0186 - mean_absolute_error: 0.0837 - val_loss: 0.0201 - val_mean_absolute_error: 0.1026\n",
      "Epoch 93/100\n",
      "\u001b[1m70/70\u001b[0m \u001b[32m━━━━━━━━━━━━━━━━━━━━\u001b[0m\u001b[37m\u001b[0m \u001b[1m1s\u001b[0m 15ms/step - loss: 0.0221 - mean_absolute_error: 0.0884 - val_loss: 0.0219 - val_mean_absolute_error: 0.1089\n",
      "Epoch 94/100\n",
      "\u001b[1m70/70\u001b[0m \u001b[32m━━━━━━━━━━━━━━━━━━━━\u001b[0m\u001b[37m\u001b[0m \u001b[1m1s\u001b[0m 14ms/step - loss: 0.0193 - mean_absolute_error: 0.0842 - val_loss: 0.0187 - val_mean_absolute_error: 0.0978\n",
      "Epoch 95/100\n",
      "\u001b[1m70/70\u001b[0m \u001b[32m━━━━━━━━━━━━━━━━━━━━\u001b[0m\u001b[37m\u001b[0m \u001b[1m1s\u001b[0m 16ms/step - loss: 0.0195 - mean_absolute_error: 0.0836 - val_loss: 0.0174 - val_mean_absolute_error: 0.0935\n",
      "Epoch 96/100\n",
      "\u001b[1m70/70\u001b[0m \u001b[32m━━━━━━━━━━━━━━━━━━━━\u001b[0m\u001b[37m\u001b[0m \u001b[1m1s\u001b[0m 19ms/step - loss: 0.0191 - mean_absolute_error: 0.0846 - val_loss: 0.0196 - val_mean_absolute_error: 0.1013\n",
      "Epoch 97/100\n",
      "\u001b[1m70/70\u001b[0m \u001b[32m━━━━━━━━━━━━━━━━━━━━\u001b[0m\u001b[37m\u001b[0m \u001b[1m2s\u001b[0m 21ms/step - loss: 0.0186 - mean_absolute_error: 0.0841 - val_loss: 0.0176 - val_mean_absolute_error: 0.0940\n",
      "Epoch 98/100\n",
      "\u001b[1m70/70\u001b[0m \u001b[32m━━━━━━━━━━━━━━━━━━━━\u001b[0m\u001b[37m\u001b[0m \u001b[1m1s\u001b[0m 18ms/step - loss: 0.0175 - mean_absolute_error: 0.0835 - val_loss: 0.0184 - val_mean_absolute_error: 0.0967\n",
      "Epoch 99/100\n",
      "\u001b[1m70/70\u001b[0m \u001b[32m━━━━━━━━━━━━━━━━━━━━\u001b[0m\u001b[37m\u001b[0m \u001b[1m1s\u001b[0m 16ms/step - loss: 0.0174 - mean_absolute_error: 0.0811 - val_loss: 0.0186 - val_mean_absolute_error: 0.0973\n",
      "Epoch 100/100\n",
      "\u001b[1m70/70\u001b[0m \u001b[32m━━━━━━━━━━━━━━━━━━━━\u001b[0m\u001b[37m\u001b[0m \u001b[1m1s\u001b[0m 16ms/step - loss: 0.0199 - mean_absolute_error: 0.0848 - val_loss: 0.0186 - val_mean_absolute_error: 0.0975\n"
     ]
    }
   ],
   "source": [
    "history = model.fit(X_train, Y_train, validation_data=(X_val, Y_val), epochs=100)"
   ]
  },
  {
   "cell_type": "code",
   "execution_count": 84,
   "id": "d8b5d790",
   "metadata": {},
   "outputs": [
    {
     "name": "stdout",
     "output_type": "stream",
     "text": [
      "\u001b[1m8/8\u001b[0m \u001b[32m━━━━━━━━━━━━━━━━━━━━\u001b[0m\u001b[37m\u001b[0m \u001b[1m0s\u001b[0m 7ms/step  \n"
     ]
    }
   ],
   "source": [
    "test_predictions = model.predict(X_test)"
   ]
  },
  {
   "cell_type": "code",
   "execution_count": 85,
   "id": "ec54b920",
   "metadata": {},
   "outputs": [],
   "source": [
    "mse = tf.keras.losses.MeanSquaredError()"
   ]
  },
  {
   "cell_type": "code",
   "execution_count": 86,
   "id": "3b4c99d5",
   "metadata": {},
   "outputs": [
    {
     "data": {
      "text/plain": [
       "0.0070604626"
      ]
     },
     "execution_count": 86,
     "metadata": {},
     "output_type": "execute_result"
    }
   ],
   "source": [
    "mse(Y_test, test_predictions).numpy()"
   ]
  },
  {
   "cell_type": "code",
   "execution_count": 33,
   "id": "3a70bbb8",
   "metadata": {},
   "outputs": [],
   "source": [
    "def qlike(y_true, y_pred):\n",
    "    np.log(y_pred+1e-16) + y_true/y_pred"
   ]
  },
  {
   "cell_type": "code",
   "execution_count": 32,
   "id": "3b719c93",
   "metadata": {},
   "outputs": [],
   "source": [
    "qlike(Y_test, test_predictions)"
   ]
  },
  {
   "cell_type": "code",
   "execution_count": 37,
   "id": "6db55c3c",
   "metadata": {},
   "outputs": [
    {
     "data": {
      "text/plain": [
       "-2.433345400143295"
      ]
     },
     "execution_count": 37,
     "metadata": {},
     "output_type": "execute_result"
    }
   ],
   "source": [
    "np.mean(np.log(test_predictions+1e-16) - Y_test/test_predictions)"
   ]
  },
  {
   "cell_type": "code",
   "execution_count": 40,
   "id": "25bd6f4e",
   "metadata": {},
   "outputs": [
    {
     "ename": "AttributeError",
     "evalue": "module 'matplotlib' has no attribute 'grid'",
     "output_type": "error",
     "traceback": [
      "\u001b[1;31m---------------------------------------------------------------------------\u001b[0m",
      "\u001b[1;31mAttributeError\u001b[0m                            Traceback (most recent call last)",
      "Cell \u001b[1;32mIn[40], line 5\u001b[0m\n\u001b[0;32m      3\u001b[0m \u001b[38;5;28;01mimport\u001b[39;00m \u001b[38;5;21;01mmatplotlib\u001b[39;00m \u001b[38;5;28;01mas\u001b[39;00m \u001b[38;5;21;01mplt\u001b[39;00m\n\u001b[0;32m      4\u001b[0m pd\u001b[38;5;241m.\u001b[39mDataFrame(history\u001b[38;5;241m.\u001b[39mhistory)\u001b[38;5;241m.\u001b[39mplot(figsize\u001b[38;5;241m=\u001b[39m(\u001b[38;5;241m8\u001b[39m,\u001b[38;5;241m5\u001b[39m))\n\u001b[1;32m----> 5\u001b[0m plt\u001b[38;5;241m.\u001b[39mgrid(\u001b[38;5;28;01mTrue\u001b[39;00m)\n\u001b[0;32m      6\u001b[0m plt\u001b[38;5;241m.\u001b[39mgca()\u001b[38;5;241m.\u001b[39mset_ylim(\u001b[38;5;241m0\u001b[39m,\u001b[38;5;241m1\u001b[39m) \u001b[38;5;66;03m# set the vertical range to [0-1]\u001b[39;00m\n\u001b[0;32m      7\u001b[0m plt\u001b[38;5;241m.\u001b[39mshow()\n",
      "File \u001b[1;32mD:\\anaconda\\Lib\\site-packages\\matplotlib\\_api\\__init__.py:226\u001b[0m, in \u001b[0;36mcaching_module_getattr.<locals>.__getattr__\u001b[1;34m(name)\u001b[0m\n\u001b[0;32m    224\u001b[0m \u001b[38;5;28;01mif\u001b[39;00m name \u001b[38;5;129;01min\u001b[39;00m props:\n\u001b[0;32m    225\u001b[0m     \u001b[38;5;28;01mreturn\u001b[39;00m props[name]\u001b[38;5;241m.\u001b[39m\u001b[38;5;21m__get__\u001b[39m(instance)\n\u001b[1;32m--> 226\u001b[0m \u001b[38;5;28;01mraise\u001b[39;00m \u001b[38;5;167;01mAttributeError\u001b[39;00m(\n\u001b[0;32m    227\u001b[0m     \u001b[38;5;124mf\u001b[39m\u001b[38;5;124m\"\u001b[39m\u001b[38;5;124mmodule \u001b[39m\u001b[38;5;132;01m{\u001b[39;00m\u001b[38;5;28mcls\u001b[39m\u001b[38;5;241m.\u001b[39m\u001b[38;5;18m__module__\u001b[39m\u001b[38;5;132;01m!r}\u001b[39;00m\u001b[38;5;124m has no attribute \u001b[39m\u001b[38;5;132;01m{\u001b[39;00mname\u001b[38;5;132;01m!r}\u001b[39;00m\u001b[38;5;124m\"\u001b[39m)\n",
      "\u001b[1;31mAttributeError\u001b[0m: module 'matplotlib' has no attribute 'grid'"
     ]
    },
    {
     "data": {
      "image/png": "[encoded data removed]",
      "text/plain": [
       "<Figure size 800x500 with 1 Axes>"
      ]
     },
     "metadata": {},
     "output_type": "display_data"
    }
   ],
   "source": [
    "import pandas as pd\n",
    "import numpy as np\n",
    "import matplotlib as plt\n",
    "pd.DataFrame(history.history).plot(figsize=(8,5))\n",
    "plt.grid(True)\n",
    "plt.gca().set_ylim(0,1) # set the vertical range to [0-1]\n",
    "plt.show()"
   ]
  },
  {
   "cell_type": "code",
   "execution_count": 47,
   "id": "94d4b583",
   "metadata": {},
   "outputs": [
    {
     "ename": "InvalidArgumentError",
     "evalue": "cannot compute Sub as input #1(zero-based) was expected to be a double tensor but is a float tensor [Op:Sub] name: ",
     "output_type": "error",
     "traceback": [
      "\u001b[1;31m---------------------------------------------------------------------------\u001b[0m",
      "\u001b[1;31mInvalidArgumentError\u001b[0m                      Traceback (most recent call last)",
      "Cell \u001b[1;32mIn[47], line 2\u001b[0m\n\u001b[0;32m      1\u001b[0m metric \u001b[38;5;241m=\u001b[39m tf\u001b[38;5;241m.\u001b[39mkeras\u001b[38;5;241m.\u001b[39mmetrics\u001b[38;5;241m.\u001b[39mR2Score()\n\u001b[1;32m----> 2\u001b[0m metric\u001b[38;5;241m.\u001b[39mupdate_state(np\u001b[38;5;241m.\u001b[39msqueeze(Y_test, axis\u001b[38;5;241m=\u001b[39m\u001b[38;5;241m1\u001b[39m), test_predictions)\n\u001b[0;32m      3\u001b[0m result \u001b[38;5;241m=\u001b[39m metric\u001b[38;5;241m.\u001b[39mresult()\n\u001b[0;32m      4\u001b[0m result\u001b[38;5;241m.\u001b[39mnumpy()\n",
      "File \u001b[1;32mD:\\anaconda\\Lib\\site-packages\\keras\\src\\metrics\\regression_metrics.py:528\u001b[0m, in \u001b[0;36mR2Score.update_state\u001b[1;34m(self, y_true, y_pred, sample_weight)\u001b[0m\n\u001b[0;32m    521\u001b[0m \u001b[38;5;28mself\u001b[39m\u001b[38;5;241m.\u001b[39msum\u001b[38;5;241m.\u001b[39massign(\u001b[38;5;28mself\u001b[39m\u001b[38;5;241m.\u001b[39msum \u001b[38;5;241m+\u001b[39m ops\u001b[38;5;241m.\u001b[39msum(weighted_y_true, axis\u001b[38;5;241m=\u001b[39m\u001b[38;5;241m0\u001b[39m))\n\u001b[0;32m    522\u001b[0m \u001b[38;5;28mself\u001b[39m\u001b[38;5;241m.\u001b[39msquared_sum\u001b[38;5;241m.\u001b[39massign(\n\u001b[0;32m    523\u001b[0m     \u001b[38;5;28mself\u001b[39m\u001b[38;5;241m.\u001b[39msquared_sum \u001b[38;5;241m+\u001b[39m ops\u001b[38;5;241m.\u001b[39msum(y_true \u001b[38;5;241m*\u001b[39m weighted_y_true, axis\u001b[38;5;241m=\u001b[39m\u001b[38;5;241m0\u001b[39m)\n\u001b[0;32m    524\u001b[0m )\n\u001b[0;32m    525\u001b[0m \u001b[38;5;28mself\u001b[39m\u001b[38;5;241m.\u001b[39mtotal_mse\u001b[38;5;241m.\u001b[39massign(\n\u001b[0;32m    526\u001b[0m     \u001b[38;5;28mself\u001b[39m\u001b[38;5;241m.\u001b[39mtotal_mse\n\u001b[0;32m    527\u001b[0m     \u001b[38;5;241m+\u001b[39m ops\u001b[38;5;241m.\u001b[39msum(\n\u001b[1;32m--> 528\u001b[0m         (y_true \u001b[38;5;241m-\u001b[39m y_pred) \u001b[38;5;241m*\u001b[39m\u001b[38;5;241m*\u001b[39m \u001b[38;5;241m2\u001b[39m \u001b[38;5;241m*\u001b[39m ops\u001b[38;5;241m.\u001b[39mcast(sample_weight, y_true\u001b[38;5;241m.\u001b[39mdtype),\n\u001b[0;32m    529\u001b[0m         axis\u001b[38;5;241m=\u001b[39m\u001b[38;5;241m0\u001b[39m,\n\u001b[0;32m    530\u001b[0m     )\n\u001b[0;32m    531\u001b[0m )\n\u001b[0;32m    532\u001b[0m \u001b[38;5;28mself\u001b[39m\u001b[38;5;241m.\u001b[39mcount\u001b[38;5;241m.\u001b[39massign(\u001b[38;5;28mself\u001b[39m\u001b[38;5;241m.\u001b[39mcount \u001b[38;5;241m+\u001b[39m ops\u001b[38;5;241m.\u001b[39msum(sample_weight, axis\u001b[38;5;241m=\u001b[39m\u001b[38;5;241m0\u001b[39m))\n\u001b[0;32m    533\u001b[0m \u001b[38;5;28mself\u001b[39m\u001b[38;5;241m.\u001b[39mnum_samples\u001b[38;5;241m.\u001b[39massign(\u001b[38;5;28mself\u001b[39m\u001b[38;5;241m.\u001b[39mnum_samples \u001b[38;5;241m+\u001b[39m ops\u001b[38;5;241m.\u001b[39msize(y_true))\n",
      "File \u001b[1;32mD:\\anaconda\\Lib\\site-packages\\tensorflow\\python\\util\\traceback_utils.py:153\u001b[0m, in \u001b[0;36mfilter_traceback.<locals>.error_handler\u001b[1;34m(*args, **kwargs)\u001b[0m\n\u001b[0;32m    151\u001b[0m \u001b[38;5;28;01mexcept\u001b[39;00m \u001b[38;5;167;01mException\u001b[39;00m \u001b[38;5;28;01mas\u001b[39;00m e:\n\u001b[0;32m    152\u001b[0m   filtered_tb \u001b[38;5;241m=\u001b[39m _process_traceback_frames(e\u001b[38;5;241m.\u001b[39m__traceback__)\n\u001b[1;32m--> 153\u001b[0m   \u001b[38;5;28;01mraise\u001b[39;00m e\u001b[38;5;241m.\u001b[39mwith_traceback(filtered_tb) \u001b[38;5;28;01mfrom\u001b[39;00m \u001b[38;5;28;01mNone\u001b[39;00m\n\u001b[0;32m    154\u001b[0m \u001b[38;5;28;01mfinally\u001b[39;00m:\n\u001b[0;32m    155\u001b[0m   \u001b[38;5;28;01mdel\u001b[39;00m filtered_tb\n",
      "File \u001b[1;32mD:\\anaconda\\Lib\\site-packages\\tensorflow\\python\\framework\\ops.py:5883\u001b[0m, in \u001b[0;36mraise_from_not_ok_status\u001b[1;34m(e, name)\u001b[0m\n\u001b[0;32m   5881\u001b[0m \u001b[38;5;28;01mdef\u001b[39;00m \u001b[38;5;21mraise_from_not_ok_status\u001b[39m(e, name) \u001b[38;5;241m-\u001b[39m\u001b[38;5;241m>\u001b[39m NoReturn:\n\u001b[0;32m   5882\u001b[0m   e\u001b[38;5;241m.\u001b[39mmessage \u001b[38;5;241m+\u001b[39m\u001b[38;5;241m=\u001b[39m (\u001b[38;5;124m\"\u001b[39m\u001b[38;5;124m name: \u001b[39m\u001b[38;5;124m\"\u001b[39m \u001b[38;5;241m+\u001b[39m \u001b[38;5;28mstr\u001b[39m(name \u001b[38;5;28;01mif\u001b[39;00m name \u001b[38;5;129;01mis\u001b[39;00m \u001b[38;5;129;01mnot\u001b[39;00m \u001b[38;5;28;01mNone\u001b[39;00m \u001b[38;5;28;01melse\u001b[39;00m \u001b[38;5;124m\"\u001b[39m\u001b[38;5;124m\"\u001b[39m))\n\u001b[1;32m-> 5883\u001b[0m   \u001b[38;5;28;01mraise\u001b[39;00m core\u001b[38;5;241m.\u001b[39m_status_to_exception(e) \u001b[38;5;28;01mfrom\u001b[39;00m \u001b[38;5;28;01mNone\u001b[39;00m\n",
      "\u001b[1;31mInvalidArgumentError\u001b[0m: cannot compute Sub as input #1(zero-based) was expected to be a double tensor but is a float tensor [Op:Sub] name: "
     ]
    }
   ],
   "source": [
    "metric = tf.keras.metrics.R2Score()\n",
    "metric.update_state(np.squeeze(Y_test, axis=1), test_predictions)\n",
    "result = metric.result()\n",
    "result.numpy()"
   ]
  },
  {
   "cell_type": "code",
   "execution_count": 48,
   "id": "2d5d3923",
   "metadata": {},
   "outputs": [
    {
     "data": {
      "text/plain": [
       "0.007170181"
      ]
     },
     "execution_count": 48,
     "metadata": {},
     "output_type": "execute_result"
    }
   ],
   "source": [
    "m = tf.keras.metrics.MeanSquaredError()\n",
    "m.update_state(Y_test, test_predictions)\n",
    "m.result().numpy()"
   ]
  },
  {
   "cell_type": "code",
   "execution_count": null,
   "id": "af9bc550",
   "metadata": {},
   "outputs": [],
   "source": []
  },
  {
   "cell_type": "code",
   "execution_count": null,
   "id": "b3679843",
   "metadata": {},
   "outputs": [],
   "source": []
  },
  {
   "cell_type": "markdown",
   "id": "eb68462c",
   "metadata": {},
   "source": [
    "# another try"
   ]
  },
  {
   "cell_type": "code",
   "execution_count": 103,
   "id": "10a1d1a8",
   "metadata": {},
   "outputs": [],
   "source": [
    "train, test = data[:round(len(data)*0.7)], data[round(len(data)*0.7):] "
   ]
  },
  {
   "cell_type": "code",
   "execution_count": 104,
   "id": "584d1858",
   "metadata": {},
   "outputs": [
    {
     "data": {
      "text/html": [
       "<style>#sk-container-id-2 {color: black;}#sk-container-id-2 pre{padding: 0;}#sk-container-id-2 div.sk-toggleable {background-color: white;}#sk-container-id-2 label.sk-toggleable__label {cursor: pointer;display: block;width: 100%;margin-bottom: 0;padding: 0.3em;box-sizing: border-box;text-align: center;}#sk-container-id-2 label.sk-toggleable__label-arrow:before {content: \"▸\";float: left;margin-right: 0.25em;color: #696969;}#sk-container-id-2 label.sk-toggleable__label-arrow:hover:before {color: black;}#sk-container-id-2 div.sk-estimator:hover label.sk-toggleable__label-arrow:before {color: black;}#sk-container-id-2 div.sk-toggleable__content {max-height: 0;max-width: 0;overflow: hidden;text-align: left;background-color: #f0f8ff;}#sk-container-id-2 div.sk-toggleable__content pre {margin: 0.2em;color: black;border-radius: 0.25em;background-color: #f0f8ff;}#sk-container-id-2 input.sk-toggleable__control:checked~div.sk-toggleable__content {max-height: 200px;max-width: 100%;overflow: auto;}#sk-container-id-2 input.sk-toggleable__control:checked~label.sk-toggleable__label-arrow:before {content: \"▾\";}#sk-container-id-2 div.sk-estimator input.sk-toggleable__control:checked~label.sk-toggleable__label {background-color: #d4ebff;}#sk-container-id-2 div.sk-label input.sk-toggleable__control:checked~label.sk-toggleable__label {background-color: #d4ebff;}#sk-container-id-2 input.sk-hidden--visually {border: 0;clip: rect(1px 1px 1px 1px);clip: rect(1px, 1px, 1px, 1px);height: 1px;margin: -1px;overflow: hidden;padding: 0;position: absolute;width: 1px;}#sk-container-id-2 div.sk-estimator {font-family: monospace;background-color: #f0f8ff;border: 1px dotted black;border-radius: 0.25em;box-sizing: border-box;margin-bottom: 0.5em;}#sk-container-id-2 div.sk-estimator:hover {background-color: #d4ebff;}#sk-container-id-2 div.sk-parallel-item::after {content: \"\";width: 100%;border-bottom: 1px solid gray;flex-grow: 1;}#sk-container-id-2 div.sk-label:hover label.sk-toggleable__label {background-color: #d4ebff;}#sk-container-id-2 div.sk-serial::before {content: \"\";position: absolute;border-left: 1px solid gray;box-sizing: border-box;top: 0;bottom: 0;left: 50%;z-index: 0;}#sk-container-id-2 div.sk-serial {display: flex;flex-direction: column;align-items: center;background-color: white;padding-right: 0.2em;padding-left: 0.2em;position: relative;}#sk-container-id-2 div.sk-item {position: relative;z-index: 1;}#sk-container-id-2 div.sk-parallel {display: flex;align-items: stretch;justify-content: center;background-color: white;position: relative;}#sk-container-id-2 div.sk-item::before, #sk-container-id-2 div.sk-parallel-item::before {content: \"\";position: absolute;border-left: 1px solid gray;box-sizing: border-box;top: 0;bottom: 0;left: 50%;z-index: -1;}#sk-container-id-2 div.sk-parallel-item {display: flex;flex-direction: column;z-index: 1;position: relative;background-color: white;}#sk-container-id-2 div.sk-parallel-item:first-child::after {align-self: flex-end;width: 50%;}#sk-container-id-2 div.sk-parallel-item:last-child::after {align-self: flex-start;width: 50%;}#sk-container-id-2 div.sk-parallel-item:only-child::after {width: 0;}#sk-container-id-2 div.sk-dashed-wrapped {border: 1px dashed gray;margin: 0 0.4em 0.5em 0.4em;box-sizing: border-box;padding-bottom: 0.4em;background-color: white;}#sk-container-id-2 div.sk-label label {font-family: monospace;font-weight: bold;display: inline-block;line-height: 1.2em;}#sk-container-id-2 div.sk-label-container {text-align: center;}#sk-container-id-2 div.sk-container {/* jupyter's `normalize.less` sets `[hidden] { display: none; }` but bootstrap.min.css set `[hidden] { display: none !important; }` so we also need the `!important` here to be able to override the default hidden behavior on the sphinx rendered scikit-learn.org. See: https://github.com/scikit-learn/scikit-learn/issues/21755 */display: inline-block !important;position: relative;}#sk-container-id-2 div.sk-text-repr-fallback {display: none;}</style><div id=\"sk-container-id-2\" class=\"sk-top-container\"><div class=\"sk-text-repr-fallback\"><pre>MinMaxScaler()</pre><b>In a Jupyter environment, please rerun this cell to show the HTML representation or trust the notebook. <br />On GitHub, the HTML representation is unable to render, please try loading this page with nbviewer.org.</b></div><div class=\"sk-container\" hidden><div class=\"sk-item\"><div class=\"sk-estimator sk-toggleable\"><input class=\"sk-toggleable__control sk-hidden--visually\" id=\"sk-estimator-id-2\" type=\"checkbox\" checked><label for=\"sk-estimator-id-2\" class=\"sk-toggleable__label sk-toggleable__label-arrow\">MinMaxScaler</label><div class=\"sk-toggleable__content\"><pre>MinMaxScaler()</pre></div></div></div></div></div>"
      ],
      "text/plain": [
       "MinMaxScaler()"
      ]
     },
     "execution_count": 104,
     "metadata": {},
     "output_type": "execute_result"
    }
   ],
   "source": [
    "from sklearn.preprocessing import MinMaxScaler\n",
    "scaler = MinMaxScaler()\n",
    "scaler.fit(train)"
   ]
  },
  {
   "cell_type": "code",
   "execution_count": 105,
   "id": "730e816b",
   "metadata": {},
   "outputs": [],
   "source": [
    "scaled_train = scaler.transform(train)\n",
    "scaled_test = scaler.transform(test)"
   ]
  },
  {
   "cell_type": "code",
   "execution_count": 106,
   "id": "26452449",
   "metadata": {},
   "outputs": [],
   "source": [
    "from tensorflow.keras.preprocessing.sequence import TimeseriesGenerator"
   ]
  },
  {
   "cell_type": "code",
   "execution_count": 107,
   "id": "1973421a",
   "metadata": {},
   "outputs": [],
   "source": [
    "length=21\n",
    "batch_size = 1024\n",
    "generator = TimeseriesGenerator(scaled_train, scaled_train, length = length, batch_size=batch_size)"
   ]
  },
  {
   "cell_type": "code",
   "execution_count": 125,
   "id": "31c87325",
   "metadata": {},
   "outputs": [],
   "source": [
    "from tensorflow.keras.models import Sequential\n",
    "from tensorflow.keras.layers import Dense, LSTM\n",
    "\n",
    "model = Sequential()\n",
    "model.add(LSTM(100, input_shape=(length, scaled_train.shape[1])))\n",
    "model.add(Dense(scaled_train.shape[1]))\n",
    "model.compile(optimizer='adam', loss='mse')"
   ]
  },
  {
   "cell_type": "code",
   "execution_count": 126,
   "id": "f4233b36",
   "metadata": {},
   "outputs": [
    {
     "data": {
      "text/html": [
       "<pre style=\"white-space:pre;overflow-x:auto;line-height:normal;font-family:Menlo,'DejaVu Sans Mono',consolas,'Courier New',monospace\"><span style=\"font-weight: bold\">Model: \"sequential_14\"</span>\n",
       "</pre>\n"
      ],
      "text/plain": [
       "\u001b[1mModel: \"sequential_14\"\u001b[0m\n"
      ]
     },
     "metadata": {},
     "output_type": "display_data"
    },
    {
     "data": {
      "text/html": [
       "<pre style=\"white-space:pre;overflow-x:auto;line-height:normal;font-family:Menlo,'DejaVu Sans Mono',consolas,'Courier New',monospace\">┏━━━━━━━━━━━━━━━━━━━━━━━━━━━━━━━━━┳━━━━━━━━━━━━━━━━━━━━━━━━━━━┳━━━━━━━━━━━━┓\n",
       "┃<span style=\"font-weight: bold\"> Layer (type)                    </span>┃<span style=\"font-weight: bold\"> Output Shape              </span>┃<span style=\"font-weight: bold\">    Param # </span>┃\n",
       "┡━━━━━━━━━━━━━━━━━━━━━━━━━━━━━━━━━╇━━━━━━━━━━━━━━━━━━━━━━━━━━━╇━━━━━━━━━━━━┩\n",
       "│ lstm_17 (<span style=\"color: #0087ff; text-decoration-color: #0087ff\">LSTM</span>)                  │ (<span style=\"color: #00d7ff; text-decoration-color: #00d7ff\">None</span>, <span style=\"color: #00af00; text-decoration-color: #00af00\">100</span>)               │     <span style=\"color: #00af00; text-decoration-color: #00af00\">79,200</span> │\n",
       "├─────────────────────────────────┼───────────────────────────┼────────────┤\n",
       "│ dense_14 (<span style=\"color: #0087ff; text-decoration-color: #0087ff\">Dense</span>)                │ (<span style=\"color: #00d7ff; text-decoration-color: #00d7ff\">None</span>, <span style=\"color: #00af00; text-decoration-color: #00af00\">97</span>)                │      <span style=\"color: #00af00; text-decoration-color: #00af00\">9,797</span> │\n",
       "└─────────────────────────────────┴───────────────────────────┴────────────┘\n",
       "</pre>\n"
      ],
      "text/plain": [
       "┏━━━━━━━━━━━━━━━━━━━━━━━━━━━━━━━━━┳━━━━━━━━━━━━━━━━━━━━━━━━━━━┳━━━━━━━━━━━━┓\n",
       "┃\u001b[1m \u001b[0m\u001b[1mLayer (type)                   \u001b[0m\u001b[1m \u001b[0m┃\u001b[1m \u001b[0m\u001b[1mOutput Shape             \u001b[0m\u001b[1m \u001b[0m┃\u001b[1m \u001b[0m\u001b[1m   Param #\u001b[0m\u001b[1m \u001b[0m┃\n",
       "┡━━━━━━━━━━━━━━━━━━━━━━━━━━━━━━━━━╇━━━━━━━━━━━━━━━━━━━━━━━━━━━╇━━━━━━━━━━━━┩\n",
       "│ lstm_17 (\u001b[38;5;33mLSTM\u001b[0m)                  │ (\u001b[38;5;45mNone\u001b[0m, \u001b[38;5;34m100\u001b[0m)               │     \u001b[38;5;34m79,200\u001b[0m │\n",
       "├─────────────────────────────────┼───────────────────────────┼────────────┤\n",
       "│ dense_14 (\u001b[38;5;33mDense\u001b[0m)                │ (\u001b[38;5;45mNone\u001b[0m, \u001b[38;5;34m97\u001b[0m)                │      \u001b[38;5;34m9,797\u001b[0m │\n",
       "└─────────────────────────────────┴───────────────────────────┴────────────┘\n"
      ]
     },
     "metadata": {},
     "output_type": "display_data"
    },
    {
     "data": {
      "text/html": [
       "<pre style=\"white-space:pre;overflow-x:auto;line-height:normal;font-family:Menlo,'DejaVu Sans Mono',consolas,'Courier New',monospace\"><span style=\"font-weight: bold\"> Total params: </span><span style=\"color: #00af00; text-decoration-color: #00af00\">88,997</span> (347.64 KB)\n",
       "</pre>\n"
      ],
      "text/plain": [
       "\u001b[1m Total params: \u001b[0m\u001b[38;5;34m88,997\u001b[0m (347.64 KB)\n"
      ]
     },
     "metadata": {},
     "output_type": "display_data"
    },
    {
     "data": {
      "text/html": [
       "<pre style=\"white-space:pre;overflow-x:auto;line-height:normal;font-family:Menlo,'DejaVu Sans Mono',consolas,'Courier New',monospace\"><span style=\"font-weight: bold\"> Trainable params: </span><span style=\"color: #00af00; text-decoration-color: #00af00\">88,997</span> (347.64 KB)\n",
       "</pre>\n"
      ],
      "text/plain": [
       "\u001b[1m Trainable params: \u001b[0m\u001b[38;5;34m88,997\u001b[0m (347.64 KB)\n"
      ]
     },
     "metadata": {},
     "output_type": "display_data"
    },
    {
     "data": {
      "text/html": [
       "<pre style=\"white-space:pre;overflow-x:auto;line-height:normal;font-family:Menlo,'DejaVu Sans Mono',consolas,'Courier New',monospace\"><span style=\"font-weight: bold\"> Non-trainable params: </span><span style=\"color: #00af00; text-decoration-color: #00af00\">0</span> (0.00 B)\n",
       "</pre>\n"
      ],
      "text/plain": [
       "\u001b[1m Non-trainable params: \u001b[0m\u001b[38;5;34m0\u001b[0m (0.00 B)\n"
      ]
     },
     "metadata": {},
     "output_type": "display_data"
    }
   ],
   "source": [
    "model.summary()"
   ]
  },
  {
   "cell_type": "code",
   "execution_count": 127,
   "id": "3a95e816",
   "metadata": {},
   "outputs": [],
   "source": [
    "from tensorflow.keras.callbacks import EarlyStopping\n",
    "early_stop = EarlyStopping(monitor='val_loss', patience=1)\n",
    "validation_generator = TimeseriesGenerator(scaled_test, scaled_test, \n",
    "                                           length=length, batch_size=batch_size)"
   ]
  },
  {
   "cell_type": "code",
   "execution_count": 128,
   "id": "a68e6812",
   "metadata": {},
   "outputs": [
    {
     "ename": "AttributeError",
     "evalue": "'Sequential' object has no attribute 'fit_generator'",
     "output_type": "error",
     "traceback": [
      "\u001b[1;31m---------------------------------------------------------------------------\u001b[0m",
      "\u001b[1;31mAttributeError\u001b[0m                            Traceback (most recent call last)",
      "Cell \u001b[1;32mIn[128], line 1\u001b[0m\n\u001b[1;32m----> 1\u001b[0m model\u001b[38;5;241m.\u001b[39mfit_generator(generator, epochs\u001b[38;5;241m=\u001b[39m\u001b[38;5;241m100\u001b[39m,\n\u001b[0;32m      2\u001b[0m                    validation_data\u001b[38;5;241m=\u001b[39mvalidation_generator,\n\u001b[0;32m      3\u001b[0m                    callbacks\u001b[38;5;241m=\u001b[39m[early_stop])\n",
      "\u001b[1;31mAttributeError\u001b[0m: 'Sequential' object has no attribute 'fit_generator'"
     ]
    }
   ],
   "source": [
    "model.fit_generator(generator, epochs=100,\n",
    "                   validation_data=validation_generator,\n",
    "                   callbacks=[early_stop])"
   ]
  }
 ],
 "metadata": {
  "kernelspec": {
   "display_name": "Python 3 (ipykernel)",
   "language": "python",
   "name": "python3"
  },
  "language_info": {
   "codemirror_mode": {
    "name": "ipython",
    "version": 3
   },
   "file_extension": ".py",
   "mimetype": "text/x-python",
   "name": "python",
   "nbconvert_exporter": "python",
   "pygments_lexer": "ipython3",
   "version": "3.11.5"
  }
 },
 "nbformat": 4,
 "nbformat_minor": 5
}

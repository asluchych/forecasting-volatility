{
 "cells": [
  {
   "cell_type": "code",
   "execution_count": 9,
   "id": "759b6922-e411-4e4e-8241-b003d0053bd0",
   "metadata": {},
   "outputs": [],
   "source": [
    "import pandas as pd\n",
    "import numpy as np\n",
    "import eikon as ek"
   ]
  },
  {
   "cell_type": "markdown",
   "id": "c7ec962f",
   "metadata": {},
   "source": [
    "Set API key: replace with your actual key"
   ]
  },
  {
   "cell_type": "code",
   "execution_count": null,
   "id": "40edb73b-04b0-4452-8bce-5975d18b346b",
   "metadata": {},
   "outputs": [],
   "source": [
    "api_key = '############################'\n",
    "ek.set_app_key(api_key)"
   ]
  },
  {
   "cell_type": "markdown",
   "id": "719f7346",
   "metadata": {},
   "source": [
    "Create list containing tickers of stocks of interest. Here: top 100 components of S&P 500"
   ]
  },
  {
   "cell_type": "code",
   "execution_count": 1,
   "id": "102a69d4-77a3-4c0d-8879-7d869195d80f",
   "metadata": {},
   "outputs": [],
   "source": [
    "rics = [\"AAPL.O\",\n",
    "        \"MSFT.O\",\n",
    "        \"GOOGL.O\",\n",
    "        \"GOOG.O\",\n",
    "        \"AMZN.O\",\n",
    "        \"NVDA.O\",\n",
    "        \"META.O\",\n",
    "        \"BRKb\",\n",
    "        \"TSLA.O\",\n",
    "        \"LLY\",\n",
    "        \"V\",\n",
    "        \"AVGO.O\",\n",
    "        \"UNH\",\n",
    "        \"JPM\",\n",
    "        \"WMT\",\n",
    "        \"MA\",\n",
    "        \"XOM\",\n",
    "        \"JNJ\",\n",
    "        \"HD\",\n",
    "        \"PG\",\n",
    "        \"MRK\",\n",
    "        \"COST.O\",\n",
    "        \"ABBV.K\",\n",
    "        \"ORCL.K\",\n",
    "        \"CVX\",\n",
    "        \"ADBE.O\",\n",
    "        \"BAC\",\n",
    "        \"KO\",\n",
    "        \"CRM\",\n",
    "        \"AMD.O\",\n",
    "        \"ACN\",\n",
    "        \"PEP.O\",\n",
    "        \"MCD\",\n",
    "        \"TMO\",\n",
    "        \"NFLX.O\",\n",
    "        \"CSCO.O\",\n",
    "        \"INTC.O\",\n",
    "        \"ABT\",\n",
    "        \"LIN.O\",\n",
    "        \"TMUS.O\",\n",
    "        \"WFC\",\n",
    "        \"CMCSA.O\",\n",
    "        \"INTU.O\",\n",
    "        \"DHR\",\n",
    "        \"VZ\",\n",
    "        \"PFE\",\n",
    "        \"DIS\",\n",
    "        \"AMGN.O\",\n",
    "        \"NKE\",\n",
    "        \"QCOM.O\",\n",
    "        \"TXN.O\",\n",
    "        \"MS\",\n",
    "        \"CAT\",\n",
    "        \"BX\",\n",
    "        \"IBM\",\n",
    "        \"PM\",\n",
    "        \"NOW\",\n",
    "        \"UNP\",\n",
    "        \"GE\",\n",
    "        \"BA\",\n",
    "        \"UPS\",\n",
    "        \"SPGI.K\",\n",
    "        \"AXP\",\n",
    "        \"HON.O\",\n",
    "        \"COP\",\n",
    "        \"UBER.K\",\n",
    "        \"ISRG.O\",\n",
    "        \"NEE\",\n",
    "        \"LOW\",\n",
    "        \"GS\",\n",
    "        \"AMAT.O\",\n",
    "        \"RTX\",\n",
    "        \"PLD\",\n",
    "        \"BKNG.O\",\n",
    "        \"T\",\n",
    "        \"SCHW.K\",\n",
    "        \"BLK\",\n",
    "        \"SYK\",\n",
    "        \"MDT\",\n",
    "        \"LMT\",\n",
    "        \"ELV\",\n",
    "        \"DE\",\n",
    "        \"VRTX.O\",\n",
    "        \"TJX\",\n",
    "        \"SBUX.O\",\n",
    "        \"GILD.O\",\n",
    "        \"BMY\",\n",
    "        \"CVS\",\n",
    "        \"C\",\n",
    "        \"PANW.O\",\n",
    "        \"MDLZ.O\",\n",
    "        \"LRCX.O\",\n",
    "        \"REGN.O\",\n",
    "        \"AMT\",\n",
    "        \"PGR\",\n",
    "        \"ADP.O\",\n",
    "        \"ETN\",\n",
    "        \"MMC\",\n",
    "        \"ADI.O\",\n",
    "        \"CB\"]"
   ]
  },
  {
   "cell_type": "markdown",
   "id": "3f1772d4",
   "metadata": {},
   "source": [
    "## Get hourly data"
   ]
  },
  {
   "cell_type": "markdown",
   "id": "ad002f31",
   "metadata": {},
   "source": [
    "Set start and end date"
   ]
  },
  {
   "cell_type": "code",
   "execution_count": 22,
   "id": "1d9fb843-dd86-4a99-b0db-eb2117fb2c7d",
   "metadata": {},
   "outputs": [],
   "source": [
    "hour_start_date = \"2023-01-20\"\n",
    "hour_end_date = \"2024-01-20\""
   ]
  },
  {
   "cell_type": "markdown",
   "id": "5b17d0d5",
   "metadata": {},
   "source": [
    "Get hourly closing prices on trading days"
   ]
  },
  {
   "cell_type": "code",
   "execution_count": 23,
   "id": "1c44072e-dea3-4f54-a3ea-b66cd995fc4e",
   "metadata": {},
   "outputs": [],
   "source": [
    "hour_data = ek.get_timeseries(rics=rics[0], \n",
    "                       start_date=hour_start_date,\n",
    "                       end_date=hour_end_date, interval=\"hour\", calendar=\"tradingdays\", fields=[\"CLOSE\"])\n",
    "hour_data = hour_data.rename(columns={\"CLOSE\": \"AAPL.O\"})\n",
    "for ric in rics[1:100]:\n",
    "    df = ek.get_timeseries(rics=ric, \n",
    "                       start_date=hour_start_date,\n",
    "                       end_date=hour_end_date, interval=\"hour\", calendar=\"tradingdays\", fields=[\"CLOSE\"])\n",
    "    df = df.rename(columns={\"CLOSE\": ric})\n",
    "    hour_data = pd.concat([hour_data, df], axis=1) "
   ]
  },
  {
   "cell_type": "markdown",
   "id": "a08774c1",
   "metadata": {},
   "source": [
    "Save data in csv format"
   ]
  },
  {
   "cell_type": "code",
   "execution_count": 24,
   "id": "c5d96f14-8a47-4949-bdef-2d219c453d84",
   "metadata": {},
   "outputs": [],
   "source": [
    "hour_data.to_csv(\"hour_data.csv\", index=True)"
   ]
  },
  {
   "cell_type": "markdown",
   "id": "9c512b30",
   "metadata": {},
   "source": [
    "## Get minutely data"
   ]
  },
  {
   "cell_type": "markdown",
   "id": "73738fff",
   "metadata": {},
   "source": [
    "Set start and end date"
   ]
  },
  {
   "cell_type": "code",
   "execution_count": 25,
   "id": "8b883bc6-6d77-46de-abb5-3a504d314c97",
   "metadata": {},
   "outputs": [],
   "source": [
    "minute_start_date = \"2023-01-20\"\n",
    "minute_end_date = \"2024-01-20\""
   ]
  },
  {
   "cell_type": "markdown",
   "id": "54932f72",
   "metadata": {},
   "source": [
    "Get minutely closing prices on trading days"
   ]
  },
  {
   "cell_type": "code",
   "execution_count": 26,
   "id": "4db5da91-f83c-4d05-acd7-53a56421114f",
   "metadata": {},
   "outputs": [],
   "source": [
    "minute_data = ek.get_timeseries(rics=rics[0], \n",
    "                       start_date=minute_start_date,  \n",
    "                       end_date=minute_end_date, interval=\"minute\", calendar=\"tradingdays\", fields=[\"CLOSE\"])\n",
    "minute_data = minute_data.rename(columns={\"CLOSE\": \"AAPL.O\"})\n",
    "\n",
    "for ric in rics[1:100]:\n",
    "    df = ek.get_timeseries(rics=ric, \n",
    "                       start_date=minute_start_date,  \n",
    "                       end_date=minute_end_date, interval=\"minute\", calendar=\"tradingdays\", fields=[\"CLOSE\"])\n",
    "    df = df.rename(columns={\"CLOSE\": ric})\n",
    "    minute_data = pd.concat([minute_data, df], axis=1) "
   ]
  },
  {
   "cell_type": "markdown",
   "id": "0f7e9a23",
   "metadata": {},
   "source": [
    "Save data in csv format"
   ]
  },
  {
   "cell_type": "code",
   "execution_count": 27,
   "id": "f5e45997-9d93-40b3-a4c2-df329c519256",
   "metadata": {},
   "outputs": [],
   "source": [
    "minute_data.to_csv(\"minute_data.csv\", index=True)"
   ]
  },
  {
   "cell_type": "markdown",
   "id": "299e06e8",
   "metadata": {},
   "source": [
    "## Get daily data"
   ]
  },
  {
   "cell_type": "markdown",
   "id": "465db124",
   "metadata": {},
   "source": [
    "Set start and end date"
   ]
  },
  {
   "cell_type": "code",
   "execution_count": 28,
   "id": "ea0b6b23-1808-4ed1-9bf0-f7ad2c265330",
   "metadata": {},
   "outputs": [],
   "source": [
    "day_start_date = \"2013-01-01\"\n",
    "day_end_date = \"2023-12-31\""
   ]
  },
  {
   "cell_type": "markdown",
   "id": "c0a97ec7",
   "metadata": {},
   "source": [
    "Get daily closing prices on trading days"
   ]
  },
  {
   "cell_type": "code",
   "execution_count": 29,
   "id": "7831709d-777b-4882-a694-9d9eb3ce4941",
   "metadata": {},
   "outputs": [],
   "source": [
    "daily_data = ek.get_timeseries(rics=rics[0], \n",
    "                       start_date=day_start_date,  \n",
    "                       end_date=day_end_date, interval=\"daily\", calendar=\"tradingdays\", fields=[\"CLOSE\"])\n",
    "daily_data = daily_data.rename(columns={\"CLOSE\": \"AAPL.O\"})\n",
    "\n",
    "for ric in rics[1:100]:\n",
    "    df = ek.get_timeseries(rics=ric, \n",
    "                       start_date=day_start_date,  \n",
    "                       end_date=day_end_date, interval=\"daily\", calendar=\"tradingdays\", fields=[\"CLOSE\"])\n",
    "    df = df.rename(columns={\"CLOSE\": ric})\n",
    "    daily_data = pd.concat([daily_data, df], axis=1) "
   ]
  },
  {
   "cell_type": "markdown",
   "id": "5a12056b",
   "metadata": {},
   "source": [
    "Save data in csv format"
   ]
  },
  {
   "cell_type": "code",
   "execution_count": null,
   "id": "fd9e3011-24ca-4235-9194-f7b9edfe9f49",
   "metadata": {},
   "outputs": [],
   "source": [
    "daily_data.to_csv(\"daily_data.csv\", index=True)"
   ]
  }
 ],
 "metadata": {
  "kernelspec": {
   "display_name": "Python 3 (ipykernel)",
   "language": "python",
   "name": "python3"
  },
  "language_info": {
   "codemirror_mode": {
    "name": "ipython",
    "version": 3
   },
   "file_extension": ".py",
   "mimetype": "text/x-python",
   "name": "python",
   "nbconvert_exporter": "python",
   "pygments_lexer": "ipython3",
   "version": "3.11.5"
  },
  "widgets": {
   "application/vnd.jupyter.widget-state+json": {
    "state": {},
    "version_major": 2,
    "version_minor": 0
   }
  }
 },
 "nbformat": 4,
 "nbformat_minor": 5
}

{
 "cells": [
  {
   "cell_type": "code",
   "execution_count": 140,
   "id": "d0442176",
   "metadata": {},
   "outputs": [],
   "source": [
    "import numpy as np\n",
    "import pandas as pd"
   ]
  },
  {
   "cell_type": "markdown",
   "id": "d118b31a",
   "metadata": {},
   "source": [
    "Read hourly stock price data"
   ]
  },
  {
   "cell_type": "code",
   "execution_count": 141,
   "id": "bffd0d9d",
   "metadata": {},
   "outputs": [],
   "source": [
    "data = pd.read_csv('daily_data.csv', index_col=0, sep=\";\")"
   ]
  },
  {
   "cell_type": "markdown",
   "id": "81881249",
   "metadata": {},
   "source": [
    "Check for missing data"
   ]
  },
  {
   "cell_type": "code",
   "execution_count": 142,
   "id": "017a947a",
   "metadata": {},
   "outputs": [
    {
     "data": {
      "text/plain": [
       "3"
      ]
     },
     "execution_count": 142,
     "metadata": {},
     "output_type": "execute_result"
    }
   ],
   "source": [
    "sum(data.isnull().sum())"
   ]
  },
  {
   "cell_type": "markdown",
   "id": "3f73ee61",
   "metadata": {},
   "source": [
    "Fill missing values with previous observations"
   ]
  },
  {
   "cell_type": "code",
   "execution_count": 129,
   "id": "eb248f5a",
   "metadata": {},
   "outputs": [],
   "source": [
    "data = data.fillna(method='ffill')"
   ]
  },
  {
   "cell_type": "markdown",
   "id": "01770cda",
   "metadata": {},
   "source": [
    "Check  if there are no missing values now"
   ]
  },
  {
   "cell_type": "code",
   "execution_count": 130,
   "id": "cedffbef",
   "metadata": {},
   "outputs": [
    {
     "data": {
      "text/plain": [
       "0"
      ]
     },
     "execution_count": 130,
     "metadata": {},
     "output_type": "execute_result"
    }
   ],
   "source": [
    "sum(data.isnull().sum())"
   ]
  },
  {
   "cell_type": "markdown",
   "id": "b5ba468c",
   "metadata": {},
   "source": [
    "Take natural logarithm of observations"
   ]
  },
  {
   "cell_type": "code",
   "execution_count": 131,
   "id": "812947f8",
   "metadata": {},
   "outputs": [],
   "source": [
    "for ind in data.columns:\n",
    "    data[ind] = (np.log(data[ind]+1e-16))"
   ]
  },
  {
   "cell_type": "markdown",
   "id": "f1552508",
   "metadata": {},
   "source": [
    "Calculate returns: take one lag difference"
   ]
  },
  {
   "cell_type": "code",
   "execution_count": 132,
   "id": "8eb87796",
   "metadata": {},
   "outputs": [],
   "source": [
    "data = data.diff()"
   ]
  },
  {
   "cell_type": "code",
   "execution_count": 133,
   "id": "e155d1a0",
   "metadata": {},
   "outputs": [],
   "source": [
    "data.drop(index=data.index[0], axis=0, inplace=True)"
   ]
  },
  {
   "cell_type": "markdown",
   "id": "526034cf",
   "metadata": {},
   "source": [
    "Calculate realized volatility by rolling standard deviation of daily returns"
   ]
  },
  {
   "cell_type": "markdown",
   "id": "66f6cb5d",
   "metadata": {},
   "source": [
    "Choose volatility period, 21 days corresponds to one month"
   ]
  },
  {
   "cell_type": "code",
   "execution_count": 134,
   "id": "b728f6e2",
   "metadata": {},
   "outputs": [],
   "source": [
    "time = 21"
   ]
  },
  {
   "cell_type": "markdown",
   "id": "87663502",
   "metadata": {},
   "source": [
    "# Multiply by np.sqrt(252) to annualize the volatility estimate assuming 252 trading days in a year?"
   ]
  },
  {
   "cell_type": "code",
   "execution_count": 135,
   "id": "19b9dd4b",
   "metadata": {},
   "outputs": [],
   "source": [
    "data = data.rolling(window=time).var()"
   ]
  },
  {
   "cell_type": "markdown",
   "id": "ea525480",
   "metadata": {},
   "source": [
    "Delete observations before 2013"
   ]
  },
  {
   "cell_type": "code",
   "execution_count": 136,
   "id": "59204f9c",
   "metadata": {},
   "outputs": [],
   "source": [
    "mask_start = list(range(40))\n",
    "data = data.drop(index=data.index[mask_start])"
   ]
  },
  {
   "cell_type": "markdown",
   "id": "840cedfe",
   "metadata": {},
   "source": [
    "Delete observations after 2023"
   ]
  },
  {
   "cell_type": "code",
   "execution_count": 137,
   "id": "27935bf2",
   "metadata": {},
   "outputs": [],
   "source": [
    "mask_end = list(range(2768, 2781))\n",
    "data = data.drop(index=data.index[mask_end])"
   ]
  },
  {
   "cell_type": "code",
   "execution_count": 139,
   "id": "1a0e6456",
   "metadata": {},
   "outputs": [],
   "source": [
    "data.to_csv(\"daily_rv_daily_data.csv\", index=True)"
   ]
  }
 ],
 "metadata": {
  "kernelspec": {
   "display_name": "Python 3 (ipykernel)",
   "language": "python",
   "name": "python3"
  },
  "language_info": {
   "codemirror_mode": {
    "name": "ipython",
    "version": 3
   },
   "file_extension": ".py",
   "mimetype": "text/x-python",
   "name": "python",
   "nbconvert_exporter": "python",
   "pygments_lexer": "ipython3",
   "version": "3.11.5"
  }
 },
 "nbformat": 4,
 "nbformat_minor": 5
}

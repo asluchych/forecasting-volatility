{
 "cells": [
  {
   "cell_type": "code",
   "execution_count": 25,
   "id": "628ab8f2",
   "metadata": {},
   "outputs": [],
   "source": [
    "import numpy as np\n",
    "import pandas as pd\n",
    "from datetime import datetime"
   ]
  },
  {
   "cell_type": "markdown",
   "id": "9cf5b79b",
   "metadata": {},
   "source": [
    "Read hourly stock price data"
   ]
  },
  {
   "cell_type": "code",
   "execution_count": 26,
   "id": "404dc54a",
   "metadata": {},
   "outputs": [],
   "source": [
    "data = pd.read_csv('hour_data.csv', index_col=0, sep=\";\")"
   ]
  },
  {
   "cell_type": "markdown",
   "id": "342fd11a",
   "metadata": {},
   "source": [
    "Check for missing data"
   ]
  },
  {
   "cell_type": "code",
   "execution_count": 27,
   "id": "13e590f9",
   "metadata": {},
   "outputs": [
    {
     "data": {
      "text/plain": [
       "271"
      ]
     },
     "execution_count": 27,
     "metadata": {},
     "output_type": "execute_result"
    }
   ],
   "source": [
    "sum(data.isnull().sum())"
   ]
  },
  {
   "cell_type": "markdown",
   "id": "4193559c",
   "metadata": {},
   "source": [
    "Fill missing values with previous observations"
   ]
  },
  {
   "cell_type": "code",
   "execution_count": 28,
   "id": "6b2b13d5",
   "metadata": {},
   "outputs": [],
   "source": [
    "data = data.fillna(method='ffill')"
   ]
  },
  {
   "cell_type": "markdown",
   "id": "18def675",
   "metadata": {},
   "source": [
    "Check  if there are no missing values now"
   ]
  },
  {
   "cell_type": "code",
   "execution_count": 29,
   "id": "2fe4843f",
   "metadata": {},
   "outputs": [
    {
     "data": {
      "text/plain": [
       "0"
      ]
     },
     "execution_count": 29,
     "metadata": {},
     "output_type": "execute_result"
    }
   ],
   "source": [
    "sum(data.isnull().sum())"
   ]
  },
  {
   "cell_type": "markdown",
   "id": "63378f1b",
   "metadata": {},
   "source": [
    "Take natural logarithm of observations"
   ]
  },
  {
   "cell_type": "code",
   "execution_count": 30,
   "id": "c0951b5c",
   "metadata": {},
   "outputs": [],
   "source": [
    "for ind in data.columns:\n",
    "    data[ind] = (np.log(data[ind]+1e-16))"
   ]
  },
  {
   "cell_type": "markdown",
   "id": "6366147b",
   "metadata": {},
   "source": [
    "Calculate returns: take one lag difference "
   ]
  },
  {
   "cell_type": "code",
   "execution_count": 31,
   "id": "00e96737",
   "metadata": {},
   "outputs": [],
   "source": [
    "data = data.diff()"
   ]
  },
  {
   "cell_type": "markdown",
   "id": "f28dd0ce",
   "metadata": {},
   "source": [
    "Exclude overnight returns"
   ]
  },
  {
   "cell_type": "code",
   "execution_count": 32,
   "id": "ab39ecce",
   "metadata": {},
   "outputs": [],
   "source": [
    "mask = list(range(0, len(data), 7))\n",
    "data = data.drop(index=data.index[mask])"
   ]
  },
  {
   "cell_type": "markdown",
   "id": "e291f1b4",
   "metadata": {},
   "source": [
    "Square returns"
   ]
  },
  {
   "cell_type": "code",
   "execution_count": 33,
   "id": "7f204f1c",
   "metadata": {},
   "outputs": [],
   "source": [
    "data = data.pow(2)"
   ]
  },
  {
   "cell_type": "markdown",
   "id": "b6a54042",
   "metadata": {},
   "source": [
    "Create list of trading days"
   ]
  },
  {
   "cell_type": "code",
   "execution_count": 34,
   "id": "7ecc721c",
   "metadata": {},
   "outputs": [],
   "source": [
    "day_index = list(set([x[:-6] for x in data.index]))\n",
    "day_index.sort(key=lambda date: datetime.strptime(date, \"%m/%d/%Y\"))"
   ]
  },
  {
   "cell_type": "markdown",
   "id": "5af7f592",
   "metadata": {},
   "source": [
    "Create empty dataframe for realized volatilty with column names from data and index of trading days"
   ]
  },
  {
   "cell_type": "code",
   "execution_count": 35,
   "id": "faa00985",
   "metadata": {},
   "outputs": [],
   "source": [
    "rv = pd.DataFrame(columns = list(data.columns),  index = day_index)"
   ]
  },
  {
   "cell_type": "markdown",
   "id": "330a8ca8",
   "metadata": {},
   "source": [
    "Calculate  daily realized volatilities\n",
    "\n",
    "$\\mathrm{RV}_{i, t}^{(h)}:=  \\displaystyle\\sum_{s=t-h+1}^t r_{i, s}^2 $, for period \n",
    "$[t-h, t]$"
   ]
  },
  {
   "cell_type": "code",
   "execution_count": 36,
   "id": "c1c020bc",
   "metadata": {},
   "outputs": [],
   "source": [
    "for ind in data.columns:\n",
    "    for i in range(len(rv)):\n",
    "        start = 6*i\n",
    "        end = start + 6\n",
    "        rv[ind][i] = sum(data[ind][start:end])"
   ]
  },
  {
   "cell_type": "markdown",
   "id": "15f4dcd3",
   "metadata": {},
   "source": [
    "# Multiply by np.sqrt(252) to annualize the volatility estimate assuming 252 trading days in a year?"
   ]
  },
  {
   "cell_type": "code",
   "execution_count": 37,
   "id": "f7e524b6",
   "metadata": {},
   "outputs": [],
   "source": [
    "rv.to_csv(\"daily_rv_hour_data.csv\", index=True)"
   ]
  }
 ],
 "metadata": {
  "kernelspec": {
   "display_name": "Python 3 (ipykernel)",
   "language": "python",
   "name": "python3"
  },
  "language_info": {
   "codemirror_mode": {
    "name": "ipython",
    "version": 3
   },
   "file_extension": ".py",
   "mimetype": "text/x-python",
   "name": "python",
   "nbconvert_exporter": "python",
   "pygments_lexer": "ipython3",
   "version": "3.11.5"
  }
 },
 "nbformat": 4,
 "nbformat_minor": 5
}

{
 "cells": [
  {
   "cell_type": "code",
   "execution_count": 152,
   "id": "628ab8f2",
   "metadata": {},
   "outputs": [],
   "source": [
    "import numpy as np\n",
    "import pandas as pd\n",
    "from datetime import datetime"
   ]
  },
  {
   "cell_type": "markdown",
   "id": "9cf5b79b",
   "metadata": {},
   "source": [
    "Read data"
   ]
  },
  {
   "cell_type": "code",
   "execution_count": 153,
   "id": "404dc54a",
   "metadata": {},
   "outputs": [],
   "source": [
    "data = pd.read_csv('hour_data.csv', index_col=0, sep=\";\")"
   ]
  },
  {
   "cell_type": "markdown",
   "id": "342fd11a",
   "metadata": {},
   "source": [
    "Check for missing data"
   ]
  },
  {
   "cell_type": "code",
   "execution_count": 154,
   "id": "13e590f9",
   "metadata": {},
   "outputs": [
    {
     "data": {
      "text/plain": [
       "AAPL.O     4\n",
       "MSFT.O     4\n",
       "GOOGL.O    4\n",
       "GOOG.O     4\n",
       "AMZN.O     4\n",
       "          ..\n",
       "ADP.O      4\n",
       "ETN        2\n",
       "MMC        2\n",
       "ADI.O      4\n",
       "CB         2\n",
       "Length: 100, dtype: int64"
      ]
     },
     "execution_count": 154,
     "metadata": {},
     "output_type": "execute_result"
    }
   ],
   "source": [
    "data.isnull().sum()"
   ]
  },
  {
   "cell_type": "markdown",
   "id": "4193559c",
   "metadata": {},
   "source": [
    "Fill missing values with previous observations"
   ]
  },
  {
   "cell_type": "code",
   "execution_count": 155,
   "id": "6b2b13d5",
   "metadata": {},
   "outputs": [],
   "source": [
    "data = data.fillna(method='ffill')"
   ]
  },
  {
   "cell_type": "markdown",
   "id": "18def675",
   "metadata": {},
   "source": [
    "Check  if there are no missing values now"
   ]
  },
  {
   "cell_type": "code",
   "execution_count": 156,
   "id": "2fe4843f",
   "metadata": {},
   "outputs": [
    {
     "data": {
      "text/plain": [
       "AAPL.O     0\n",
       "MSFT.O     0\n",
       "GOOGL.O    0\n",
       "GOOG.O     0\n",
       "AMZN.O     0\n",
       "          ..\n",
       "ADP.O      0\n",
       "ETN        0\n",
       "MMC        0\n",
       "ADI.O      0\n",
       "CB         0\n",
       "Length: 100, dtype: int64"
      ]
     },
     "execution_count": 156,
     "metadata": {},
     "output_type": "execute_result"
    }
   ],
   "source": [
    "data.isnull().sum()"
   ]
  },
  {
   "cell_type": "markdown",
   "id": "63378f1b",
   "metadata": {},
   "source": [
    "Take natural logarithm of observations"
   ]
  },
  {
   "cell_type": "code",
   "execution_count": 157,
   "id": "c0951b5c",
   "metadata": {},
   "outputs": [],
   "source": [
    "for ind in data.columns:\n",
    "    data[ind] = (np.log(data[ind]+1e-16))"
   ]
  },
  {
   "cell_type": "markdown",
   "id": "6366147b",
   "metadata": {},
   "source": [
    "Calculate returns: take one lag difference "
   ]
  },
  {
   "cell_type": "code",
   "execution_count": 159,
   "id": "00e96737",
   "metadata": {},
   "outputs": [],
   "source": [
    "data = data.diff()"
   ]
  },
  {
   "cell_type": "markdown",
   "id": "f28dd0ce",
   "metadata": {},
   "source": [
    "Exclude overnight returns"
   ]
  },
  {
   "cell_type": "code",
   "execution_count": 161,
   "id": "ab39ecce",
   "metadata": {},
   "outputs": [],
   "source": [
    "mask = list(range(0, len(data), 7))\n",
    "data = data.drop(index=data.index[mask])"
   ]
  },
  {
   "cell_type": "markdown",
   "id": "e291f1b4",
   "metadata": {},
   "source": [
    "Square returns"
   ]
  },
  {
   "cell_type": "code",
   "execution_count": 163,
   "id": "7f204f1c",
   "metadata": {},
   "outputs": [],
   "source": [
    "data = data.pow(2)"
   ]
  },
  {
   "cell_type": "markdown",
   "id": "b6a54042",
   "metadata": {},
   "source": [
    "Create list of trading days"
   ]
  },
  {
   "cell_type": "code",
   "execution_count": 165,
   "id": "7ecc721c",
   "metadata": {},
   "outputs": [],
   "source": [
    "day_index = list(set([x[:-6] for x in data.index]))\n",
    "day_index.sort(key=lambda date: datetime.strptime(date, \"%m/%d/%Y\"))"
   ]
  },
  {
   "cell_type": "markdown",
   "id": "5af7f592",
   "metadata": {},
   "source": [
    "Create empty dataframe for realized volatilty with columns from data and index from trading days"
   ]
  },
  {
   "cell_type": "code",
   "execution_count": 166,
   "id": "faa00985",
   "metadata": {},
   "outputs": [],
   "source": [
    "rv = pd.DataFrame(columns = list(data.columns),  index = day_index)"
   ]
  },
  {
   "cell_type": "markdown",
   "id": "330a8ca8",
   "metadata": {},
   "source": [
    "Calculate  daily realized volatilities"
   ]
  },
  {
   "cell_type": "code",
   "execution_count": 168,
   "id": "c1c020bc",
   "metadata": {},
   "outputs": [],
   "source": [
    "for ind in data.columns:\n",
    "    for i in range(len(rv)):\n",
    "        start = 6*i\n",
    "        end = start + 6\n",
    "        rv[ind][i] = sum(data[ind][start:end])"
   ]
  },
  {
   "cell_type": "code",
   "execution_count": 169,
   "id": "a832b563",
   "metadata": {},
   "outputs": [
    {
     "data": {
      "text/html": [
       "<div>\n",
       "<style scoped>\n",
       "    .dataframe tbody tr th:only-of-type {\n",
       "        vertical-align: middle;\n",
       "    }\n",
       "\n",
       "    .dataframe tbody tr th {\n",
       "        vertical-align: top;\n",
       "    }\n",
       "\n",
       "    .dataframe thead th {\n",
       "        text-align: right;\n",
       "    }\n",
       "</style>\n",
       "<table border=\"1\" class=\"dataframe\">\n",
       "  <thead>\n",
       "    <tr style=\"text-align: right;\">\n",
       "      <th></th>\n",
       "      <th>AAPL.O</th>\n",
       "      <th>MSFT.O</th>\n",
       "      <th>GOOGL.O</th>\n",
       "      <th>GOOG.O</th>\n",
       "      <th>AMZN.O</th>\n",
       "      <th>NVDA.O</th>\n",
       "      <th>META.O</th>\n",
       "      <th>BRKb</th>\n",
       "      <th>TSLA.O</th>\n",
       "      <th>LLY</th>\n",
       "      <th>...</th>\n",
       "      <th>MDLZ.O</th>\n",
       "      <th>LRCX.O</th>\n",
       "      <th>REGN.O</th>\n",
       "      <th>AMT</th>\n",
       "      <th>PGR</th>\n",
       "      <th>ADP.O</th>\n",
       "      <th>ETN</th>\n",
       "      <th>MMC</th>\n",
       "      <th>ADI.O</th>\n",
       "      <th>CB</th>\n",
       "    </tr>\n",
       "  </thead>\n",
       "  <tbody>\n",
       "    <tr>\n",
       "      <th>1/11/2023</th>\n",
       "      <td>0.00013</td>\n",
       "      <td>0.000072</td>\n",
       "      <td>0.000125</td>\n",
       "      <td>0.00011</td>\n",
       "      <td>0.000259</td>\n",
       "      <td>0.000196</td>\n",
       "      <td>0.000155</td>\n",
       "      <td>0.000047</td>\n",
       "      <td>0.000323</td>\n",
       "      <td>0.000123</td>\n",
       "      <td>...</td>\n",
       "      <td>0.000058</td>\n",
       "      <td>0.000287</td>\n",
       "      <td>0.000251</td>\n",
       "      <td>0.000092</td>\n",
       "      <td>0.000042</td>\n",
       "      <td>0.000038</td>\n",
       "      <td>0.000057</td>\n",
       "      <td>0.000039</td>\n",
       "      <td>0.000053</td>\n",
       "      <td>0.000019</td>\n",
       "    </tr>\n",
       "    <tr>\n",
       "      <th>1/12/2023</th>\n",
       "      <td>0.000078</td>\n",
       "      <td>0.000201</td>\n",
       "      <td>0.000077</td>\n",
       "      <td>0.000065</td>\n",
       "      <td>0.000077</td>\n",
       "      <td>0.000959</td>\n",
       "      <td>0.000443</td>\n",
       "      <td>0.000018</td>\n",
       "      <td>0.000628</td>\n",
       "      <td>0.000056</td>\n",
       "      <td>...</td>\n",
       "      <td>0.00005</td>\n",
       "      <td>0.00054</td>\n",
       "      <td>0.000144</td>\n",
       "      <td>0.000229</td>\n",
       "      <td>0.000163</td>\n",
       "      <td>0.000083</td>\n",
       "      <td>0.000051</td>\n",
       "      <td>0.000088</td>\n",
       "      <td>0.000041</td>\n",
       "      <td>0.000069</td>\n",
       "    </tr>\n",
       "    <tr>\n",
       "      <th>1/13/2023</th>\n",
       "      <td>0.000139</td>\n",
       "      <td>0.000079</td>\n",
       "      <td>0.000071</td>\n",
       "      <td>0.000065</td>\n",
       "      <td>0.000196</td>\n",
       "      <td>0.000579</td>\n",
       "      <td>0.000032</td>\n",
       "      <td>0.000009</td>\n",
       "      <td>0.001005</td>\n",
       "      <td>0.00002</td>\n",
       "      <td>...</td>\n",
       "      <td>0.000072</td>\n",
       "      <td>0.000113</td>\n",
       "      <td>0.000098</td>\n",
       "      <td>0.000039</td>\n",
       "      <td>0.000006</td>\n",
       "      <td>0.000054</td>\n",
       "      <td>0.000012</td>\n",
       "      <td>0.000044</td>\n",
       "      <td>0.000068</td>\n",
       "      <td>0.000038</td>\n",
       "    </tr>\n",
       "    <tr>\n",
       "      <th>1/17/2023</th>\n",
       "      <td>0.000024</td>\n",
       "      <td>0.000043</td>\n",
       "      <td>0.000017</td>\n",
       "      <td>0.00002</td>\n",
       "      <td>0.000084</td>\n",
       "      <td>0.000118</td>\n",
       "      <td>0.000088</td>\n",
       "      <td>0.000028</td>\n",
       "      <td>0.000181</td>\n",
       "      <td>0.000054</td>\n",
       "      <td>...</td>\n",
       "      <td>0.000007</td>\n",
       "      <td>0.000153</td>\n",
       "      <td>0.000055</td>\n",
       "      <td>0.000134</td>\n",
       "      <td>0.000067</td>\n",
       "      <td>0.000099</td>\n",
       "      <td>0.000066</td>\n",
       "      <td>0.000019</td>\n",
       "      <td>0.000068</td>\n",
       "      <td>0.000012</td>\n",
       "    </tr>\n",
       "    <tr>\n",
       "      <th>1/18/2023</th>\n",
       "      <td>0.00013</td>\n",
       "      <td>0.000188</td>\n",
       "      <td>0.000092</td>\n",
       "      <td>0.000109</td>\n",
       "      <td>0.00018</td>\n",
       "      <td>0.000234</td>\n",
       "      <td>0.000286</td>\n",
       "      <td>0.000099</td>\n",
       "      <td>0.000996</td>\n",
       "      <td>0.000125</td>\n",
       "      <td>...</td>\n",
       "      <td>0.000195</td>\n",
       "      <td>0.000339</td>\n",
       "      <td>0.000051</td>\n",
       "      <td>0.000368</td>\n",
       "      <td>0.000103</td>\n",
       "      <td>0.000069</td>\n",
       "      <td>0.000254</td>\n",
       "      <td>0.000123</td>\n",
       "      <td>0.000105</td>\n",
       "      <td>0.000126</td>\n",
       "    </tr>\n",
       "    <tr>\n",
       "      <th>...</th>\n",
       "      <td>...</td>\n",
       "      <td>...</td>\n",
       "      <td>...</td>\n",
       "      <td>...</td>\n",
       "      <td>...</td>\n",
       "      <td>...</td>\n",
       "      <td>...</td>\n",
       "      <td>...</td>\n",
       "      <td>...</td>\n",
       "      <td>...</td>\n",
       "      <td>...</td>\n",
       "      <td>...</td>\n",
       "      <td>...</td>\n",
       "      <td>...</td>\n",
       "      <td>...</td>\n",
       "      <td>...</td>\n",
       "      <td>...</td>\n",
       "      <td>...</td>\n",
       "      <td>...</td>\n",
       "      <td>...</td>\n",
       "      <td>...</td>\n",
       "    </tr>\n",
       "    <tr>\n",
       "      <th>1/4/2024</th>\n",
       "      <td>0.000038</td>\n",
       "      <td>0.000028</td>\n",
       "      <td>0.000059</td>\n",
       "      <td>0.000049</td>\n",
       "      <td>0.000109</td>\n",
       "      <td>0.000132</td>\n",
       "      <td>0.000052</td>\n",
       "      <td>0.000038</td>\n",
       "      <td>0.000119</td>\n",
       "      <td>0.000345</td>\n",
       "      <td>...</td>\n",
       "      <td>0.000029</td>\n",
       "      <td>0.00014</td>\n",
       "      <td>0.000095</td>\n",
       "      <td>0.00021</td>\n",
       "      <td>0.000174</td>\n",
       "      <td>0.000012</td>\n",
       "      <td>0.000102</td>\n",
       "      <td>0.00001</td>\n",
       "      <td>0.00008</td>\n",
       "      <td>0.000068</td>\n",
       "    </tr>\n",
       "    <tr>\n",
       "      <th>1/5/2024</th>\n",
       "      <td>0.000139</td>\n",
       "      <td>0.000075</td>\n",
       "      <td>0.000046</td>\n",
       "      <td>0.000044</td>\n",
       "      <td>0.000086</td>\n",
       "      <td>0.000254</td>\n",
       "      <td>0.000111</td>\n",
       "      <td>0.000018</td>\n",
       "      <td>0.000121</td>\n",
       "      <td>0.000147</td>\n",
       "      <td>...</td>\n",
       "      <td>0.000071</td>\n",
       "      <td>0.000107</td>\n",
       "      <td>0.000088</td>\n",
       "      <td>0.000187</td>\n",
       "      <td>0.000066</td>\n",
       "      <td>0.000017</td>\n",
       "      <td>0.00004</td>\n",
       "      <td>0.000062</td>\n",
       "      <td>0.000069</td>\n",
       "      <td>0.000025</td>\n",
       "    </tr>\n",
       "    <tr>\n",
       "      <th>1/8/2024</th>\n",
       "      <td>0.000024</td>\n",
       "      <td>0.000044</td>\n",
       "      <td>0.000035</td>\n",
       "      <td>0.000036</td>\n",
       "      <td>0.000052</td>\n",
       "      <td>0.000183</td>\n",
       "      <td>0.00007</td>\n",
       "      <td>0.000048</td>\n",
       "      <td>0.000155</td>\n",
       "      <td>0.000225</td>\n",
       "      <td>...</td>\n",
       "      <td>0.000025</td>\n",
       "      <td>0.000055</td>\n",
       "      <td>0.000113</td>\n",
       "      <td>0.000071</td>\n",
       "      <td>0.000082</td>\n",
       "      <td>0.000009</td>\n",
       "      <td>0.000074</td>\n",
       "      <td>0.000048</td>\n",
       "      <td>0.000007</td>\n",
       "      <td>0.000042</td>\n",
       "    </tr>\n",
       "    <tr>\n",
       "      <th>1/9/2024</th>\n",
       "      <td>0.000061</td>\n",
       "      <td>0.000054</td>\n",
       "      <td>0.000073</td>\n",
       "      <td>0.000064</td>\n",
       "      <td>0.00008</td>\n",
       "      <td>0.000658</td>\n",
       "      <td>0.000055</td>\n",
       "      <td>0.00001</td>\n",
       "      <td>0.000159</td>\n",
       "      <td>0.000067</td>\n",
       "      <td>...</td>\n",
       "      <td>0.000023</td>\n",
       "      <td>0.000064</td>\n",
       "      <td>0.000073</td>\n",
       "      <td>0.000149</td>\n",
       "      <td>0.000046</td>\n",
       "      <td>0.000039</td>\n",
       "      <td>0.000056</td>\n",
       "      <td>0.000018</td>\n",
       "      <td>0.000093</td>\n",
       "      <td>0.000034</td>\n",
       "    </tr>\n",
       "    <tr>\n",
       "      <th>1/10/2024</th>\n",
       "      <td>0.000073</td>\n",
       "      <td>0.000059</td>\n",
       "      <td>0.000038</td>\n",
       "      <td>0.000036</td>\n",
       "      <td>0.000046</td>\n",
       "      <td>0.000183</td>\n",
       "      <td>0.000144</td>\n",
       "      <td>0.000024</td>\n",
       "      <td>0.000147</td>\n",
       "      <td>0.000032</td>\n",
       "      <td>...</td>\n",
       "      <td>0.000045</td>\n",
       "      <td>0.000175</td>\n",
       "      <td>0.00007</td>\n",
       "      <td>0.000159</td>\n",
       "      <td>0.000091</td>\n",
       "      <td>0.000007</td>\n",
       "      <td>0.000013</td>\n",
       "      <td>0.000023</td>\n",
       "      <td>0.000018</td>\n",
       "      <td>0.000036</td>\n",
       "    </tr>\n",
       "  </tbody>\n",
       "</table>\n",
       "<p>251 rows × 100 columns</p>\n",
       "</div>"
      ],
      "text/plain": [
       "             AAPL.O    MSFT.O   GOOGL.O    GOOG.O    AMZN.O    NVDA.O  \\\n",
       "1/11/2023   0.00013  0.000072  0.000125   0.00011  0.000259  0.000196   \n",
       "1/12/2023  0.000078  0.000201  0.000077  0.000065  0.000077  0.000959   \n",
       "1/13/2023  0.000139  0.000079  0.000071  0.000065  0.000196  0.000579   \n",
       "1/17/2023  0.000024  0.000043  0.000017   0.00002  0.000084  0.000118   \n",
       "1/18/2023   0.00013  0.000188  0.000092  0.000109   0.00018  0.000234   \n",
       "...             ...       ...       ...       ...       ...       ...   \n",
       "1/4/2024   0.000038  0.000028  0.000059  0.000049  0.000109  0.000132   \n",
       "1/5/2024   0.000139  0.000075  0.000046  0.000044  0.000086  0.000254   \n",
       "1/8/2024   0.000024  0.000044  0.000035  0.000036  0.000052  0.000183   \n",
       "1/9/2024   0.000061  0.000054  0.000073  0.000064   0.00008  0.000658   \n",
       "1/10/2024  0.000073  0.000059  0.000038  0.000036  0.000046  0.000183   \n",
       "\n",
       "             META.O      BRKb    TSLA.O       LLY  ...    MDLZ.O    LRCX.O  \\\n",
       "1/11/2023  0.000155  0.000047  0.000323  0.000123  ...  0.000058  0.000287   \n",
       "1/12/2023  0.000443  0.000018  0.000628  0.000056  ...   0.00005   0.00054   \n",
       "1/13/2023  0.000032  0.000009  0.001005   0.00002  ...  0.000072  0.000113   \n",
       "1/17/2023  0.000088  0.000028  0.000181  0.000054  ...  0.000007  0.000153   \n",
       "1/18/2023  0.000286  0.000099  0.000996  0.000125  ...  0.000195  0.000339   \n",
       "...             ...       ...       ...       ...  ...       ...       ...   \n",
       "1/4/2024   0.000052  0.000038  0.000119  0.000345  ...  0.000029   0.00014   \n",
       "1/5/2024   0.000111  0.000018  0.000121  0.000147  ...  0.000071  0.000107   \n",
       "1/8/2024    0.00007  0.000048  0.000155  0.000225  ...  0.000025  0.000055   \n",
       "1/9/2024   0.000055   0.00001  0.000159  0.000067  ...  0.000023  0.000064   \n",
       "1/10/2024  0.000144  0.000024  0.000147  0.000032  ...  0.000045  0.000175   \n",
       "\n",
       "             REGN.O       AMT       PGR     ADP.O       ETN       MMC  \\\n",
       "1/11/2023  0.000251  0.000092  0.000042  0.000038  0.000057  0.000039   \n",
       "1/12/2023  0.000144  0.000229  0.000163  0.000083  0.000051  0.000088   \n",
       "1/13/2023  0.000098  0.000039  0.000006  0.000054  0.000012  0.000044   \n",
       "1/17/2023  0.000055  0.000134  0.000067  0.000099  0.000066  0.000019   \n",
       "1/18/2023  0.000051  0.000368  0.000103  0.000069  0.000254  0.000123   \n",
       "...             ...       ...       ...       ...       ...       ...   \n",
       "1/4/2024   0.000095   0.00021  0.000174  0.000012  0.000102   0.00001   \n",
       "1/5/2024   0.000088  0.000187  0.000066  0.000017   0.00004  0.000062   \n",
       "1/8/2024   0.000113  0.000071  0.000082  0.000009  0.000074  0.000048   \n",
       "1/9/2024   0.000073  0.000149  0.000046  0.000039  0.000056  0.000018   \n",
       "1/10/2024   0.00007  0.000159  0.000091  0.000007  0.000013  0.000023   \n",
       "\n",
       "              ADI.O        CB  \n",
       "1/11/2023  0.000053  0.000019  \n",
       "1/12/2023  0.000041  0.000069  \n",
       "1/13/2023  0.000068  0.000038  \n",
       "1/17/2023  0.000068  0.000012  \n",
       "1/18/2023  0.000105  0.000126  \n",
       "...             ...       ...  \n",
       "1/4/2024    0.00008  0.000068  \n",
       "1/5/2024   0.000069  0.000025  \n",
       "1/8/2024   0.000007  0.000042  \n",
       "1/9/2024   0.000093  0.000034  \n",
       "1/10/2024  0.000018  0.000036  \n",
       "\n",
       "[251 rows x 100 columns]"
      ]
     },
     "execution_count": 169,
     "metadata": {},
     "output_type": "execute_result"
    }
   ],
   "source": [
    "rv"
   ]
  },
  {
   "cell_type": "code",
   "execution_count": 175,
   "id": "d441a0f1",
   "metadata": {},
   "outputs": [],
   "source": [
    "rv.to_csv(\"rv_data.csv\", index=True)"
   ]
  },
  {
   "cell_type": "markdown",
   "id": "43863d43",
   "metadata": {},
   "source": []
  }
 ],
 "metadata": {
  "kernelspec": {
   "display_name": "Python 3 (ipykernel)",
   "language": "python",
   "name": "python3"
  },
  "language_info": {
   "codemirror_mode": {
    "name": "ipython",
    "version": 3
   },
   "file_extension": ".py",
   "mimetype": "text/x-python",
   "name": "python",
   "nbconvert_exporter": "python",
   "pygments_lexer": "ipython3",
   "version": "3.11.5"
  }
 },
 "nbformat": 4,
 "nbformat_minor": 5
}

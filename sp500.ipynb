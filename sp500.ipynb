{
 "cells": [
  {
   "cell_type": "code",
   "execution_count": 126,
   "id": "759b6922-e411-4e4e-8241-b003d0053bd0",
   "metadata": {},
   "outputs": [],
   "source": [
    "import pandas as pd\n",
    "import numpy as np\n",
    "import eikon as ek"
   ]
  },
  {
   "cell_type": "code",
   "execution_count": 127,
   "id": "40edb73b-04b0-4452-8bce-5975d18b346b",
   "metadata": {},
   "outputs": [],
   "source": [
    "api_key = '54deb8d71c5c47bebd6792da249f73715f3a803f'\n",
    "ek.set_app_key(api_key)"
   ]
  },
  {
   "cell_type": "code",
   "execution_count": 128,
   "id": "b3503b66-ba56-49ce-9754-341d8e909318",
   "metadata": {},
   "outputs": [],
   "source": [
    "rics = ['POOL.OQ', 'CHRW.OQ', 'AJG.N', 'CNP.N', 'AMCR.N', 'WM.N', 'BA.N', 'FOX.OQ',\n",
    "        'WY.N', 'MCD.N', 'HD.N', 'SPG.N', 'HBAN.OQ', 'QRVO.OQ', 'LVS.N', 'CTRA.N',\n",
    "        'ON.OQ', 'AIG.N', 'AIZ.N', 'CARR.N', 'EVRG.OQ', 'COST.OQ', 'MCO.N', 'DIS.N', \n",
    "        'LULU.OQ', 'PAYX.OQ', 'AMD.OQ', 'REG.OQ', 'DHI.N', 'TRV.N', 'BIO.N', 'MOS.N', \n",
    "        'BWA.N', 'WDC.OQ', 'VTR.N', 'IVZ.N', 'ZBRA.OQ', 'AMAT.OQ', 'STX.OQ', 'FDS.N',\n",
    "        'KVUE.N', 'SYK.N', 'VRSN.OQ', 'TECH.OQ', 'NVR.N', 'JBL.N', 'BBWI.N', 'LOW.N',\n",
    "        'BSX.N', 'SYY.N', 'FCX.N', 'MAS.N', 'BEN.N', 'META.OQ', 'PAYC.N', 'EXPE.OQ', \n",
    "        'RJF.N', 'CL.N', 'VICI.N', 'CE.N', 'UNH.N', 'ARE.N', 'GEN.OQ', 'LLY.N', \n",
    "        'CDAY.N', 'GRMN.N', 'PODD.OQ', 'ISRG.OQ', 'AVB.N', 'TPR.N', 'CBRE.N',\n",
    "        'CINF.OQ', 'WMB.N', 'EA.OQ', 'TMUS.OQ', 'CB.N', 'TXN.OQ', 'MDLZ.OQ', \n",
    "        'BRO.N', 'BALL.N', 'PFG.OQ', 'KEYS.N', 'PCG.N', 'RL.N', 'JPM.N', 'TTWO.OQ',\n",
    "        'CDW.OQ', 'RMD.N', 'LNT.OQ', 'COO.OQ', 'CMG.N', 'PCAR.OQ', 'GNRC.N', \n",
    "        'CHTR.OQ', 'PWR.N', 'CCL.N', 'PM.N', 'SNA.N', 'UAL.OQ', 'ESS.N', 'KHC.OQ', \n",
    "        'BLDR.N', 'JBHT.OQ', 'CMI.N', 'PNR.N', 'CRL.N', 'DPZ.N', 'HPQ.N', 'ROP.OQ',\n",
    "        'LW.N', 'TGT.N', 'NTAP.OQ', 'OXY.N', 'IR.N', 'TER.OQ', 'WAB.N', 'NOW.N', \n",
    "        'EXC.OQ', 'BR.N', 'EMN.N', 'AZO.N', 'TEL.N', 'FRT.N', 'DUK.N', 'KMI.N', \n",
    "        'DVN.N', 'RCL.N', 'VTRS.OQ', 'CAH.N', 'AAL.OQ', 'MKC.N', 'IEX.N', 'VLO.N',\n",
    "        'EXPD.N', 'LH.N', 'DRI.N', 'MAA.N', 'JNJ.N', 'COR.N', 'SHW.N', 'GD.N', \n",
    "        'SBAC.OQ', 'MPWR.OQ', 'COP.N', 'ORCL.N', 'AMP.N', 'NXPI.OQ', 'CPRT.OQ',\n",
    "        'TXT.N', 'T.N', 'MTCH.OQ', 'NDAQ.OQ', 'FFIV.OQ', 'LEN.N', 'CDNS.OQ', \n",
    "        'NVDA.OQ', 'WELL.N', 'PLD.N', 'ROST.OQ', 'MRK.N', 'WEC.N', 'MSCI.N', \n",
    "        'TMO.N', 'F.N', 'GEHC.OQ', 'LYB.N', 'IBM.N', 'IQV.N', 'VRTX.OQ', \n",
    "        'DXCM.OQ', 'PEP.OQ', 'AOS.N', 'BLK.N', 'HII.N', 'CVS.N', 'PH.N', \n",
    "        'NSC.N', 'MSFT.OQ', 'HWM.N', 'BAX.N', 'HUM.N', 'AXON.OQ', 'ZBH.N', \n",
    "        'TDY.N', 'GILD.OQ', 'EPAM.N', 'CMA.N', 'NOC.N', 'PNW.N', 'BFb.N', \n",
    "        'DE.N', 'HSY.N', 'GL.N', 'SLB.N', 'AWK.N', 'PKG.N', 'FLT.N', 'ADI.OQ',\n",
    "        'MMC.N', 'IT.N', 'ECL.N', 'BXP.N', 'GE.N', 'ED.N', 'ALLE.N', 'OTIS.N',\n",
    "        'WFC.N', 'CTVA.N', 'FTV.N', 'AEE.N', 'PRU.N', 'DLTR.OQ', 'CF.N', 'NEE.N',\n",
    "        'FMC.N', 'ILMN.OQ', 'KLAC.OQ', 'AME.N', 'NUE.N', 'D.N', 'SJM.N', 'EMR.N', \n",
    "        'DVA.N', 'CMS.N', 'HPE.N', 'RHI.N', 'BDX.N', 'MGM.N', 'HUBB.N', 'ALGN.OQ',\n",
    "        'SRE.N', 'REGN.OQ', 'EFX.N', 'USB.N', 'CSGP.OQ', 'HCA.N', 'AVGO.OQ', 'DHR.N',\n",
    "        'NWSA.OQ', 'RTX.N', 'AAPL.OQ', 'CME.OQ', 'MRO.N', 'ADM.N', 'APD.N', 'FANG.OQ',\n",
    "        'WRB.N', 'AXP.N', 'CLX.N', 'DOV.N', 'FSLR.OQ', 'MTB.N', 'FDX.N', 'TROW.OQ', \n",
    "        'JKHY.OQ', 'O.N', 'MLM.N', 'RVTY.N', 'L.N', 'QCOM.OQ', 'IPG.N', 'PHM.N', \n",
    "        'ANSS.OQ', 'ULTA.OQ', 'KO.N', 'CSCO.OQ', 'WTW.OQ', 'ANET.N', 'ES.N', \n",
    "        'CTAS.OQ', 'GPN.N', 'RSG.N', 'LIN.OQ', 'MCK.N', 'HLT.N', 'NFLX.OQ', \n",
    "        'FI.N', 'RF.N', 'WMT.N', 'AMGN.OQ', 'KIM.N', 'PXD.N', 'DG.N', 'XRAY.OQ', \n",
    "        'EQR.N', 'URI.N', 'TDG.N', 'CNC.N', 'NKE.N', 'AES.N', 'ELV.N', 'GWW.N', \n",
    "        'K.N', 'GOOGL.OQ', 'GM.N', 'CCI.N', 'COF.N', 'C.N', 'ODFL.OQ', 'A.N', \n",
    "        'MOH.N', 'GS.N', 'MET.N', 'WYNN.OQ', 'PSA.N', 'CPT.N', 'MRNA.OQ', \n",
    "        'BK.N', 'FAST.OQ', 'LDOS.N', 'ORLY.OQ', 'CSX.OQ', 'CFG.N', 'NI.N', \n",
    "        'MO.N', 'DD.N', 'AEP.OQ', 'HOLX.OQ', 'BX.N', 'BBY.N', 'LHX.N', \n",
    "        'APA.OQ', 'IFF.N', 'CEG.OQ', 'STT.N', 'JCI.N', 'FE.N', 'PNC.N', \n",
    "        'VZ.N', 'NEM.N', 'ROL.N', 'KEY.N', 'GIS.N', 'CMCSA.OQ', 'VLTO.N', \n",
    "        'PFE.N', 'EIX.N', 'NWS.OQ', 'MU.OQ', 'UPS.N', 'TYL.N', 'UNP.N', \n",
    "        'BAC.N', 'KMX.N', 'PARA.OQ', 'IP.N', 'MDT.N', 'MMM.N', 'CZR.OQ', \n",
    "        'UBER.N', 'INTU.OQ', 'OKE.N', 'ADP.OQ', 'EQIX.OQ', 'CHD.N', 'MTD.N', \n",
    "        'KDP.OQ', 'EBAY.OQ', 'PEG.N', 'BIIB.OQ', 'CTSH.OQ', 'ALB.N', 'TRGP.N',\n",
    "        'NCLH.N', 'UDR.N', 'DGX.N', 'CBOE.Z', 'ETSY.OQ', 'HIG.N', 'ACGL.OQ', \n",
    "        'NDSN.OQ', 'VRSK.OQ', 'AMT.N', 'PYPL.OQ', 'CAG.N', 'UHS.N', 'TFX.N', \n",
    "        'SYF.N', 'WAT.N', 'INCY.OQ', 'LRCX.OQ', 'IDXX.OQ', 'PPG.N', 'LKQ.OQ', \n",
    "        'BG.N', 'HES.N', 'EOG.N', 'MAR.OQ', 'TJX.N', 'MNST.OQ', 'VMC.N', \n",
    "        'EW.N', 'ALL.N', 'BMY.N', 'APH.N', 'HON.OQ', 'GPC.N', 'MHK.N', \n",
    "        'MCHP.OQ', 'CAT.N', 'PG.N', 'ZTS.N', 'STE.N', 'BKR.OQ', 'AFL.N', \n",
    "        'CPB.N', 'PTC.OQ', 'FITB.OQ', 'MSI.N', 'XEL.OQ', 'HSIC.OQ', 'ITW.N', \n",
    "        'WST.N', 'DFS.N', 'APTV.N', 'MPC.N', 'PGR.N', 'ZION.OQ', 'ICE.N', \n",
    "        'KMB.N', 'SWKS.OQ', 'ABNB.OQ', 'EL.N', 'TSLA.OQ', 'EXR.N', 'SPGI.N', \n",
    "        'ADBE.OQ', 'ADSK.OQ', 'WRK.N', 'WHR.N', 'FOXA.OQ', 'TT.N', 'TSN.N', 'LUV.N', 'INVH.N', 'TSCO.OQ', 'AON.N', 'AMZN.OQ', 'MS.N', \n",
    "        'BRKb.N', 'GOOG.OQ', 'KR.N', 'BKNG.OQ', 'STZ.N', 'WBD.OQ', 'ABBV.N', \n",
    "        'STLD.OQ', 'MA.N', 'XOM.N', 'SWK.N', 'FICO.N', 'HRL.N', 'INTC.OQ', 'TRMB.OQ',\n",
    "        'WBA.OQ', 'OMC.N', 'GLW.N', 'CRM.N', 'SBUX.OQ', 'ATO.N', 'ETR.N', 'HAL.N', \n",
    "        'TFC.N', 'TAP.N', 'ABT.N', 'V.N', 'YUM.N', 'LYV.N', 'JNPR.N', 'EG.N', \n",
    "        'FTNT.OQ', 'DTE.N', 'HST.OQ', 'IRM.N', 'PEAK.N', 'FIS.N', 'DAL.N', 'ROK.N',\n",
    "        'DOW.N', 'PPL.N', 'NTRS.OQ', 'VFC.N', 'ETN.N', 'CVX.N', 'CI.N', 'ACN.N', \n",
    "        'PANW.OQ', 'XYL.N', 'HAS.OQ', 'ENPH.OQ', 'SO.N', 'CTLT.N', 'EQT.N', 'NRG.N',\n",
    "        'MKTX.OQ', 'LMT.N', 'DLR.N', 'PSX.N', 'SCHW.N', 'SNPS.OQ', 'J.N', 'AVY.N']"
   ]
  },
  {
   "cell_type": "code",
   "execution_count": 171,
   "id": "1d9fb843-dd86-4a99-b0db-eb2117fb2c7d",
   "metadata": {},
   "outputs": [],
   "source": [
    "minute_start_date = \"2023-07-01\"\n",
    "minute_end_date = \"2023-12-31\""
   ]
  },
  {
   "cell_type": "code",
   "execution_count": 130,
   "id": "d943b60a-ea41-4c81-aba6-23a13b9f9362",
   "metadata": {},
   "outputs": [],
   "source": [
    "for ric in rics:\n",
    "    data = ek.get_timeseries(ric, \n",
    "                       start_date=minute_start_date,\n",
    "                       end_date=hour_end_date, interval=\"minute\",\n",
    "                       calendar=\"tradingdays\")\n",
    "    data.to_csv('./minute2023/' + ric +'_2023.csv', index=True)"
   ]
  },
  {
   "cell_type": "code",
   "execution_count": 172,
   "id": "2f548660-6778-4347-aa23-bca8368d1d24",
   "metadata": {},
   "outputs": [],
   "source": [
    "hour_start_date = \"2023-02-01\"\n",
    "hour_end_date = \"2023-12-31\"\n",
    "i = 0"
   ]
  },
  {
   "cell_type": "code",
   "execution_count": 173,
   "id": "5b294132-cda2-49a2-945a-cd2667fdd8c4",
   "metadata": {},
   "outputs": [
    {
     "name": "stderr",
     "output_type": "stream",
     "text": [
      "WARNING:pyeikon:Error with RMD.N: Insufficient data\n",
      "ERROR:pyeikon:RMD.N: Insufficient data | \n",
      "WARNING:pyeikon:Error with OXY.N: Insufficient data\n",
      "ERROR:pyeikon:OXY.N: Insufficient data | \n",
      "WARNING:pyeikon:Error with RHI.N: Insufficient data\n",
      "ERROR:pyeikon:RHI.N: Insufficient data | \n",
      "WARNING:pyeikon:Error with FI.N: Insufficient data\n",
      "ERROR:pyeikon:FI.N: Insufficient data | \n",
      "WARNING:pyeikon:Error with LDOS.N: Insufficient data\n",
      "ERROR:pyeikon:LDOS.N: Insufficient data | \n"
     ]
    }
   ],
   "source": [
    "for ric in rics:\n",
    "    try:\n",
    "        data = ek.get_timeseries(ric, \n",
    "                       start_date=hour_start_date,\n",
    "                       end_date=hour_end_date, interval=\"hour\",\n",
    "                       calendar=\"tradingdays\")\n",
    "        data.to_csv('./hour2023/' + ric +'_2023.csv', index=True)\n",
    "        i = i+1\n",
    "    except ek.EikonError as err:\n",
    "        e = err\n",
    "        continue"
   ]
  },
  {
   "cell_type": "code",
   "execution_count": 174,
   "id": "dfa3fae7-4785-41df-acf4-0090c2ac31c2",
   "metadata": {},
   "outputs": [
    {
     "data": {
      "text/plain": [
       "eikon.eikonError.EikonError(-1)"
      ]
     },
     "execution_count": 174,
     "metadata": {},
     "output_type": "execute_result"
    }
   ],
   "source": [
    "e"
   ]
  },
  {
   "cell_type": "code",
   "execution_count": 175,
   "id": "55ad836e-0d45-4e79-a17b-60723a46ef2c",
   "metadata": {},
   "outputs": [
    {
     "data": {
      "text/plain": [
       "497"
      ]
     },
     "execution_count": 175,
     "metadata": {},
     "output_type": "execute_result"
    }
   ],
   "source": [
    "i"
   ]
  },
  {
   "cell_type": "code",
   "execution_count": null,
   "id": "ad9a2ab4-925e-4068-8412-9ed89c53f5bb",
   "metadata": {},
   "outputs": [],
   "source": [
    "['RMD.N', 'OXY.N', 'RHI.N', 'FI.N', 'LDOS.N']:"
   ]
  },
  {
   "cell_type": "code",
   "execution_count": 190,
   "id": "0a46fc38-fd2b-4f05-82fe-1476d29ec5f3",
   "metadata": {},
   "outputs": [],
   "source": [
    "ric = 'LDOS.N'"
   ]
  },
  {
   "cell_type": "code",
   "execution_count": 191,
   "id": "2863f45e-8e5e-463a-ab6f-55a206a7f71a",
   "metadata": {},
   "outputs": [],
   "source": [
    "try:\n",
    "    data = ek.get_timeseries(ric, \n",
    "                       start_date=hour_start_date,\n",
    "                       end_date=hour_end_date, interval=\"hour\",\n",
    "                       calendar=\"tradingdays\")\n",
    "    data.to_csv('./hour2023/' + ric +'_2023.csv', index=True)\n",
    "    i = i+1\n",
    "except ek.EikonError as err:\n",
    "    e = err\n"
   ]
  }
 ],
 "metadata": {
  "kernelspec": {
   "display_name": "Python 3",
   "language": "python",
   "name": "python3"
  },
  "language_info": {
   "codemirror_mode": {
    "name": "ipython",
    "version": 3
   },
   "file_extension": ".py",
   "mimetype": "text/x-python",
   "name": "python",
   "nbconvert_exporter": "python",
   "pygments_lexer": "ipython3",
   "version": "3.8.15"
  },
  "widgets": {
   "application/vnd.jupyter.widget-state+json": {
    "state": {},
    "version_major": 2,
    "version_minor": 0
   }
  }
 },
 "nbformat": 4,
 "nbformat_minor": 5
}
